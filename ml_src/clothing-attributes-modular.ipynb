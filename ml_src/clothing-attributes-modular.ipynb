{
 "cells": [
  {
   "cell_type": "markdown",
   "metadata": {
    "deletable": true,
    "editable": true
   },
   "source": [
    "## Pre-Procesing"
   ]
  },
  {
   "cell_type": "code",
   "execution_count": 5,
   "metadata": {
    "collapsed": true,
    "deletable": true,
    "editable": true
   },
   "outputs": [],
   "source": [
    "from preprocessing import train_valid_test_split, combine_labels, get_attribute_dims"
   ]
  },
  {
   "cell_type": "code",
   "execution_count": 6,
   "metadata": {
    "collapsed": true,
    "deletable": true,
    "editable": true
   },
   "outputs": [],
   "source": [
    "# Train-Test Split Folders\n",
    "SOURCE_DATA_DIR = \"data/ClothingAttributeDataset/images/\"\n",
    "TARGET_DATA_DIR = \"data/ClothingAttributeDataset/\"\n",
    "\n",
    "# Labels File\n",
    "LABEL_DIR = \"data/ClothingAttributeDataset/labels/\"\n",
    "labels_file = \"data/labels.csv\"\n",
    "label_values_file = \"data/label_values.json\"\n",
    "\n",
    "# Train and Validation Images\n",
    "TRAIN_IMAGES_FOLDER = \"data/ClothingAttributeDataset/train/\"\n",
    "VALID_IMAGES_FOLDER = \"data/ClothingAttributeDataset/valid/\""
   ]
  },
  {
   "cell_type": "code",
   "execution_count": null,
   "metadata": {
    "collapsed": true
   },
   "outputs": [],
   "source": [
    "train_valid_test_split(SOURCE_DATA_DIR, TARGET_DATA_DIR, train_size=0.8, valid_size=0.2)"
   ]
  },
  {
   "cell_type": "code",
   "execution_count": 3,
   "metadata": {
    "collapsed": false,
    "deletable": true,
    "editable": true
   },
   "outputs": [
    {
     "name": "stdout",
     "output_type": "stream",
     "text": [
      "1484\r\n"
     ]
    }
   ],
   "source": [
    "!ls data/ClothingAttributeDataset/train | wc -l"
   ]
  },
  {
   "cell_type": "code",
   "execution_count": 4,
   "metadata": {
    "collapsed": false,
    "deletable": true,
    "editable": true
   },
   "outputs": [
    {
     "name": "stdout",
     "output_type": "stream",
     "text": [
      "372\r\n"
     ]
    }
   ],
   "source": [
    "!ls data/ClothingAttributeDataset/valid | wc -l"
   ]
  },
  {
   "cell_type": "code",
   "execution_count": 5,
   "metadata": {
    "collapsed": false,
    "deletable": true,
    "editable": true
   },
   "outputs": [],
   "source": [
    "labels_df = combine_labels(LABEL_DIR, labels_file, label_values_file)"
   ]
  },
  {
   "cell_type": "code",
   "execution_count": 6,
   "metadata": {
    "collapsed": true,
    "deletable": true,
    "editable": true
   },
   "outputs": [],
   "source": [
    "# binary_columns = ['skin_exposure_GT', 'collar_GT', 'gender_GT', 'scarf_GT', 'necktie_GT',  'placket_GT']\n",
    "# multi_columns = ['category_GT', 'neckline_GT', 'sleevelength_GT']\n",
    "    \n",
    "# color_columns = ['white_GT', 'yellow_GT', 'gray_GT', 'green_GT', 'blue_GT', 'brown_GT', 'red_GT',\n",
    "#                  'cyan_GT', 'black_GT', 'purple_GT', 'many_colors_GT']\n",
    "# pattern_columns = ['pattern_spot_GT', 'pattern_solid_GT', 'pattern_graphics_GT', \n",
    "#                   'pattern_plaid_GT', 'pattern_stripe_GT', 'pattern_floral_GT']"
   ]
  },
  {
   "cell_type": "markdown",
   "metadata": {
    "deletable": true,
    "editable": true
   },
   "source": [
    "## Build Models"
   ]
  },
  {
   "cell_type": "code",
   "execution_count": 7,
   "metadata": {
    "collapsed": false,
    "deletable": true,
    "editable": true
   },
   "outputs": [],
   "source": [
    "from classifiers import get_pretrained_model, create_attributes_model"
   ]
  },
  {
   "cell_type": "code",
   "execution_count": 8,
   "metadata": {
    "collapsed": false
   },
   "outputs": [],
   "source": [
    "target_dims = get_attribute_dims(label_values_file)"
   ]
  },
  {
   "cell_type": "code",
   "execution_count": 9,
   "metadata": {
    "collapsed": false
   },
   "outputs": [
    {
     "data": {
      "text/plain": [
       "{'category_GT': 7,\n",
       " 'collar_GT': 2,\n",
       " 'gender_GT': 2,\n",
       " 'neckline_GT': 3,\n",
       " 'necktie_GT': 2,\n",
       " 'pattern_GT': 6,\n",
       " 'placket_GT': 2,\n",
       " 'scarf_GT': 2,\n",
       " 'skin_exposure_GT': 2,\n",
       " 'sleevelength_GT': 3}"
      ]
     },
     "execution_count": 9,
     "metadata": {},
     "output_type": "execute_result"
    }
   ],
   "source": [
    "target_dims"
   ]
  },
  {
   "cell_type": "code",
   "execution_count": 10,
   "metadata": {
    "collapsed": false,
    "deletable": true,
    "editable": true
   },
   "outputs": [],
   "source": [
    "pretrained_features, pretrained_fc, fc_dim = get_pretrained_model(\"alexnet\")"
   ]
  },
  {
   "cell_type": "code",
   "execution_count": 11,
   "metadata": {
    "collapsed": false,
    "deletable": true,
    "editable": true
   },
   "outputs": [
    {
     "name": "stdout",
     "output_type": "stream",
     "text": [
      "Processing Attribute: scarf_GT\n",
      "Processing Attribute: category_GT\n",
      "Processing Attribute: sleevelength_GT\n",
      "Processing Attribute: necktie_GT\n",
      "Processing Attribute: pattern_GT\n",
      "Processing Attribute: gender_GT\n",
      "Processing Attribute: placket_GT\n",
      "Processing Attribute: collar_GT\n",
      "Processing Attribute: neckline_GT\n",
      "Processing Attribute: skin_exposure_GT\n"
     ]
    }
   ],
   "source": [
    "models = create_attributes_model(pretrained_fc, pretrained_features, fc_dim, target_dims, \"weights/\",\n",
    "                                labels_file, TRAIN_IMAGES_FOLDER, VALID_IMAGES_FOLDER, num_epochs=1, is_train=False)"
   ]
  },
  {
   "cell_type": "code",
   "execution_count": 12,
   "metadata": {
    "collapsed": false,
    "deletable": true,
    "editable": true
   },
   "outputs": [
    {
     "data": {
      "text/plain": [
       "{'category_GT': AttributeModel (\n",
       "   (model): Sequential (\n",
       "     (0): Dropout (p = 0.5)\n",
       "     (1): Linear (9216 -> 4096)\n",
       "     (2): ReLU (inplace)\n",
       "     (3): Dropout (p = 0.5)\n",
       "     (4): Linear (4096 -> 4096)\n",
       "     (5): ReLU (inplace)\n",
       "     (6): Linear (4096 -> 7)\n",
       "   )\n",
       " ), 'collar_GT': AttributeModel (\n",
       "   (model): Sequential (\n",
       "     (0): Dropout (p = 0.5)\n",
       "     (1): Linear (9216 -> 4096)\n",
       "     (2): ReLU (inplace)\n",
       "     (3): Dropout (p = 0.5)\n",
       "     (4): Linear (4096 -> 4096)\n",
       "     (5): ReLU (inplace)\n",
       "     (6): Linear (4096 -> 2)\n",
       "   )\n",
       " ), 'gender_GT': AttributeModel (\n",
       "   (model): Sequential (\n",
       "     (0): Dropout (p = 0.5)\n",
       "     (1): Linear (9216 -> 4096)\n",
       "     (2): ReLU (inplace)\n",
       "     (3): Dropout (p = 0.5)\n",
       "     (4): Linear (4096 -> 4096)\n",
       "     (5): ReLU (inplace)\n",
       "     (6): Linear (4096 -> 2)\n",
       "   )\n",
       " ), 'neckline_GT': AttributeModel (\n",
       "   (model): Sequential (\n",
       "     (0): Dropout (p = 0.5)\n",
       "     (1): Linear (9216 -> 4096)\n",
       "     (2): ReLU (inplace)\n",
       "     (3): Dropout (p = 0.5)\n",
       "     (4): Linear (4096 -> 4096)\n",
       "     (5): ReLU (inplace)\n",
       "     (6): Linear (4096 -> 3)\n",
       "   )\n",
       " ), 'necktie_GT': AttributeModel (\n",
       "   (model): Sequential (\n",
       "     (0): Dropout (p = 0.5)\n",
       "     (1): Linear (9216 -> 4096)\n",
       "     (2): ReLU (inplace)\n",
       "     (3): Dropout (p = 0.5)\n",
       "     (4): Linear (4096 -> 4096)\n",
       "     (5): ReLU (inplace)\n",
       "     (6): Linear (4096 -> 2)\n",
       "   )\n",
       " ), 'pattern_GT': AttributeModel (\n",
       "   (model): Sequential (\n",
       "     (0): Dropout (p = 0.5)\n",
       "     (1): Linear (9216 -> 4096)\n",
       "     (2): ReLU (inplace)\n",
       "     (3): Dropout (p = 0.5)\n",
       "     (4): Linear (4096 -> 4096)\n",
       "     (5): ReLU (inplace)\n",
       "     (6): Linear (4096 -> 6)\n",
       "   )\n",
       " ), 'placket_GT': AttributeModel (\n",
       "   (model): Sequential (\n",
       "     (0): Dropout (p = 0.5)\n",
       "     (1): Linear (9216 -> 4096)\n",
       "     (2): ReLU (inplace)\n",
       "     (3): Dropout (p = 0.5)\n",
       "     (4): Linear (4096 -> 4096)\n",
       "     (5): ReLU (inplace)\n",
       "     (6): Linear (4096 -> 2)\n",
       "   )\n",
       " ), 'scarf_GT': AttributeModel (\n",
       "   (model): Sequential (\n",
       "     (0): Dropout (p = 0.5)\n",
       "     (1): Linear (9216 -> 4096)\n",
       "     (2): ReLU (inplace)\n",
       "     (3): Dropout (p = 0.5)\n",
       "     (4): Linear (4096 -> 4096)\n",
       "     (5): ReLU (inplace)\n",
       "     (6): Linear (4096 -> 2)\n",
       "   )\n",
       " ), 'skin_exposure_GT': AttributeModel (\n",
       "   (model): Sequential (\n",
       "     (0): Dropout (p = 0.5)\n",
       "     (1): Linear (9216 -> 4096)\n",
       "     (2): ReLU (inplace)\n",
       "     (3): Dropout (p = 0.5)\n",
       "     (4): Linear (4096 -> 4096)\n",
       "     (5): ReLU (inplace)\n",
       "     (6): Linear (4096 -> 2)\n",
       "   )\n",
       " ), 'sleevelength_GT': AttributeModel (\n",
       "   (model): Sequential (\n",
       "     (0): Dropout (p = 0.5)\n",
       "     (1): Linear (9216 -> 4096)\n",
       "     (2): ReLU (inplace)\n",
       "     (3): Dropout (p = 0.5)\n",
       "     (4): Linear (4096 -> 4096)\n",
       "     (5): ReLU (inplace)\n",
       "     (6): Linear (4096 -> 3)\n",
       "   )\n",
       " )}"
      ]
     },
     "execution_count": 12,
     "metadata": {},
     "output_type": "execute_result"
    }
   ],
   "source": [
    "models"
   ]
  },
  {
   "cell_type": "code",
   "execution_count": 14,
   "metadata": {
    "collapsed": false
   },
   "outputs": [
    {
     "data": {
      "text/plain": [
       "Sequential (\n",
       "  (0): Conv2d(3, 64, kernel_size=(11, 11), stride=(4, 4), padding=(2, 2))\n",
       "  (1): ReLU (inplace)\n",
       "  (2): MaxPool2d (size=(3, 3), stride=(2, 2), dilation=(1, 1))\n",
       "  (3): Conv2d(64, 192, kernel_size=(5, 5), stride=(1, 1), padding=(2, 2))\n",
       "  (4): ReLU (inplace)\n",
       "  (5): MaxPool2d (size=(3, 3), stride=(2, 2), dilation=(1, 1))\n",
       "  (6): Conv2d(192, 384, kernel_size=(3, 3), stride=(1, 1), padding=(1, 1))\n",
       "  (7): ReLU (inplace)\n",
       "  (8): Conv2d(384, 256, kernel_size=(3, 3), stride=(1, 1), padding=(1, 1))\n",
       "  (9): ReLU (inplace)\n",
       "  (10): Conv2d(256, 256, kernel_size=(3, 3), stride=(1, 1), padding=(1, 1))\n",
       "  (11): ReLU (inplace)\n",
       "  (12): MaxPool2d (size=(3, 3), stride=(2, 2), dilation=(1, 1))\n",
       ")"
      ]
     },
     "execution_count": 14,
     "metadata": {},
     "output_type": "execute_result"
    }
   ],
   "source": [
    "pretrained_features"
   ]
  },
  {
   "cell_type": "code",
   "execution_count": 15,
   "metadata": {
    "collapsed": true
   },
   "outputs": [],
   "source": [
    "from PIL import Image\n",
    "\n",
    "from torchvision import transforms\n",
    "from torch.autograd import Variable"
   ]
  },
  {
   "cell_type": "code",
   "execution_count": 16,
   "metadata": {
    "collapsed": true
   },
   "outputs": [],
   "source": [
    "data_transforms = transforms.Compose([\n",
    "    transforms.Scale(266),\n",
    "    transforms.CenterCrop(224),\n",
    "    transforms.ToTensor(),\n",
    "    transforms.Normalize([0.485, 0.456, 0.406], [0.229, 0.224, 0.225])\n",
    "])"
   ]
  },
  {
   "cell_type": "code",
   "execution_count": 17,
   "metadata": {
    "collapsed": false
   },
   "outputs": [],
   "source": [
    "import numpy as np\n",
    "from scipy.misc import imread, imsave, imresize\n",
    "from matplotlib import pyplot as plt\n",
    "\n",
    "%matplotlib inline"
   ]
  },
  {
   "cell_type": "code",
   "execution_count": 59,
   "metadata": {
    "collapsed": false
   },
   "outputs": [
    {
     "data": {
      "text/plain": [
       "<matplotlib.image.AxesImage at 0x7f4939190cf8>"
      ]
     },
     "execution_count": 59,
     "metadata": {},
     "output_type": "execute_result"
    },
    {
     "data": {
      "image/png": "[encoded data removed]",
      "text/plain": [
       "<matplotlib.figure.Figure at 0x7f492981e470>"
      ]
     },
     "metadata": {},
     "output_type": "display_data"
    }
   ],
   "source": [
    "img = imread(\"data/ClothingAttributeDataset/valid/000077.jpg\")\n",
    "plt.imshow(img)"
   ]
  },
  {
   "cell_type": "code",
   "execution_count": 60,
   "metadata": {
    "collapsed": false,
    "deletable": true,
    "editable": true
   },
   "outputs": [],
   "source": [
    "imsize = 256\n",
    "loader = transforms.Compose([transforms.Scale(imsize), transforms.ToTensor()])\n",
    "\n",
    "def image_loader(image_name, transforms, use_gpu=True):\n",
    "    \"\"\"load image, returns cuda tensor\"\"\"\n",
    "    image = Image.open(image_name)\n",
    "    image = transforms(image)\n",
    "    image = Variable(image, requires_grad=True)\n",
    "    image = image.unsqueeze(0)\n",
    "    if use_gpu:\n",
    "        image = image.cuda()\n",
    "    return image\n",
    "\n",
    "image = image_loader(\"data/ClothingAttributeDataset/valid/000077.jpg\", transforms=data_transforms)"
   ]
  },
  {
   "cell_type": "code",
   "execution_count": 61,
   "metadata": {
    "collapsed": false
   },
   "outputs": [
    {
     "data": {
      "text/plain": [
       "torch.Size([1, 3, 224, 224])"
      ]
     },
     "execution_count": 61,
     "metadata": {},
     "output_type": "execute_result"
    }
   ],
   "source": [
    "image.size()"
   ]
  },
  {
   "cell_type": "code",
   "execution_count": 62,
   "metadata": {
    "collapsed": false
   },
   "outputs": [
    {
     "data": {
      "text/plain": [
       "Sequential (\n",
       "  (0): Conv2d(3, 64, kernel_size=(11, 11), stride=(4, 4), padding=(2, 2))\n",
       "  (1): ReLU (inplace)\n",
       "  (2): MaxPool2d (size=(3, 3), stride=(2, 2), dilation=(1, 1))\n",
       "  (3): Conv2d(64, 192, kernel_size=(5, 5), stride=(1, 1), padding=(2, 2))\n",
       "  (4): ReLU (inplace)\n",
       "  (5): MaxPool2d (size=(3, 3), stride=(2, 2), dilation=(1, 1))\n",
       "  (6): Conv2d(192, 384, kernel_size=(3, 3), stride=(1, 1), padding=(1, 1))\n",
       "  (7): ReLU (inplace)\n",
       "  (8): Conv2d(384, 256, kernel_size=(3, 3), stride=(1, 1), padding=(1, 1))\n",
       "  (9): ReLU (inplace)\n",
       "  (10): Conv2d(256, 256, kernel_size=(3, 3), stride=(1, 1), padding=(1, 1))\n",
       "  (11): ReLU (inplace)\n",
       "  (12): MaxPool2d (size=(3, 3), stride=(2, 2), dilation=(1, 1))\n",
       ")"
      ]
     },
     "execution_count": 62,
     "metadata": {},
     "output_type": "execute_result"
    }
   ],
   "source": [
    "pretrained_features.cuda()"
   ]
  },
  {
   "cell_type": "code",
   "execution_count": 63,
   "metadata": {
    "collapsed": true
   },
   "outputs": [],
   "source": [
    "def get_pretrained_features(model, image, use_gpu=True):\n",
    "    out_features = model(image)\n",
    "    out_features = out_features.view(out_features.size(0), -1)\n",
    "    return out_features"
   ]
  },
  {
   "cell_type": "code",
   "execution_count": 71,
   "metadata": {
    "collapsed": false
   },
   "outputs": [],
   "source": [
    "def predict_attribute(model, features, use_gpu=True):\n",
    "    return model(out_features)"
   ]
  },
  {
   "cell_type": "code",
   "execution_count": 75,
   "metadata": {
    "collapsed": false
   },
   "outputs": [],
   "source": [
    "import torch"
   ]
  },
  {
   "cell_type": "code",
   "execution_count": 85,
   "metadata": {
    "collapsed": false
   },
   "outputs": [
    {
     "data": {
      "text/plain": [
       "array([[ 0.20522568,  0.        ,  0.        , ...,  0.        ,\n",
       "         0.        ,  0.        ]], dtype=float32)"
      ]
     },
     "execution_count": 85,
     "metadata": {},
     "output_type": "execute_result"
    }
   ],
   "source": [
    "out_features.data.cpu().cpu().numpy()"
   ]
  },
  {
   "cell_type": "code",
   "execution_count": 72,
   "metadata": {
    "collapsed": true
   },
   "outputs": [],
   "source": [
    "out_features = get_pretrained_features(pretrained_features, image)"
   ]
  },
  {
   "cell_type": "code",
   "execution_count": 73,
   "metadata": {
    "collapsed": false
   },
   "outputs": [
    {
     "data": {
      "text/plain": [
       "Variable containing:\n",
       " 0.5732  0.4265  0.0003\n",
       "[torch.cuda.FloatTensor of size 1x3 (GPU 0)]"
      ]
     },
     "execution_count": 73,
     "metadata": {},
     "output_type": "execute_result"
    }
   ],
   "source": [
    "predict_attribute(models[\"neckline_GT\"], out_features.cuda())"
   ]
  },
  {
   "cell_type": "code",
   "execution_count": 44,
   "metadata": {
    "collapsed": false
   },
   "outputs": [
    {
     "data": {
      "text/plain": [
       "Variable containing:\n",
       "  0.0000   0.0000   0.0000  ...    7.7006   5.8663   1.4132\n",
       "[torch.cuda.FloatTensor of size 1x9216 (GPU 0)]"
      ]
     },
     "execution_count": 44,
     "metadata": {},
     "output_type": "execute_result"
    }
   ],
   "source": [
    "out_features"
   ]
  },
  {
   "cell_type": "code",
   "execution_count": 45,
   "metadata": {
    "collapsed": false
   },
   "outputs": [
    {
     "data": {
      "text/plain": [
       "Variable containing:\n",
       " -0.0999  -3.9573  -1.1398  ...   -4.5676   0.1438   1.8787\n",
       "[torch.FloatTensor of size 1x1000]"
      ]
     },
     "execution_count": 45,
     "metadata": {},
     "output_type": "execute_result"
    }
   ],
   "source": [
    "pretrained_fc(out_features.cpu())"
   ]
  },
  {
   "cell_type": "code",
   "execution_count": 49,
   "metadata": {
    "collapsed": false
   },
   "outputs": [
    {
     "data": {
      "text/plain": [
       "Variable containing:\n",
       "  0.0000   0.0000   0.0000  ...    7.7006   5.8663   1.4132\n",
       "[torch.cuda.FloatTensor of size 1x9216 (GPU 0)]"
      ]
     },
     "execution_count": 49,
     "metadata": {},
     "output_type": "execute_result"
    }
   ],
   "source": [
    "out_features"
   ]
  },
  {
   "cell_type": "code",
   "execution_count": 55,
   "metadata": {
    "collapsed": false
   },
   "outputs": [
    {
     "data": {
      "text/plain": [
       "Variable containing:\n",
       " 0.0575  0.9410  0.0015\n",
       "[torch.cuda.FloatTensor of size 1x3 (GPU 0)]"
      ]
     },
     "execution_count": 55,
     "metadata": {},
     "output_type": "execute_result"
    }
   ],
   "source": [
    "models[\"neckline_GT\"](out_features.cuda())"
   ]
  },
  {
   "cell_type": "code",
   "execution_count": 56,
   "metadata": {
    "collapsed": true
   },
   "outputs": [],
   "source": [
    "## Confusion Matrix"
   ]
  },
  {
   "cell_type": "code",
   "execution_count": 57,
   "metadata": {
    "collapsed": false
   },
   "outputs": [
    {
     "ename": "NameError",
     "evalue": "name 'dset_loaders' is not defined",
     "output_type": "error",
     "traceback": [
      "\u001b[0;31m---------------------------------------------------------------------------\u001b[0m",
      "\u001b[0;31mNameError\u001b[0m                                 Traceback (most recent call last)",
      "\u001b[0;32m<ipython-input-57-b1ed1ea4433b>\u001b[0m in \u001b[0;36m<module>\u001b[0;34m()\u001b[0m\n\u001b[0;32m----> 1\u001b[0;31m \u001b[0;32mfor\u001b[0m \u001b[0mdata\u001b[0m \u001b[0;32min\u001b[0m \u001b[0mdset_loaders\u001b[0m\u001b[0;34m[\u001b[0m\u001b[0;34m\"train\"\u001b[0m\u001b[0;34m]\u001b[0m\u001b[0;34m:\u001b[0m\u001b[0;34m\u001b[0m\u001b[0m\n\u001b[0m\u001b[1;32m      2\u001b[0m     \u001b[0minputs\u001b[0m\u001b[0;34m,\u001b[0m \u001b[0mlabels\u001b[0m \u001b[0;34m=\u001b[0m \u001b[0mdata\u001b[0m\u001b[0;34m\u001b[0m\u001b[0m\n\u001b[1;32m      3\u001b[0m     \u001b[0;32mif\u001b[0m \u001b[0muse_gpu\u001b[0m\u001b[0;34m:\u001b[0m\u001b[0;34m\u001b[0m\u001b[0m\n\u001b[1;32m      4\u001b[0m         \u001b[0mX\u001b[0m \u001b[0;34m=\u001b[0m \u001b[0mVariable\u001b[0m\u001b[0;34m(\u001b[0m\u001b[0minputs\u001b[0m\u001b[0;34m.\u001b[0m\u001b[0mcuda\u001b[0m\u001b[0;34m(\u001b[0m\u001b[0;34m)\u001b[0m\u001b[0;34m)\u001b[0m\u001b[0;34m\u001b[0m\u001b[0m\n\u001b[1;32m      5\u001b[0m     \u001b[0;32melse\u001b[0m\u001b[0;34m:\u001b[0m\u001b[0;34m\u001b[0m\u001b[0m\n",
      "\u001b[0;31mNameError\u001b[0m: name 'dset_loaders' is not defined"
     ]
    }
   ],
   "source": [
    "for data in dset_loaders[\"train\"]:\n",
    "    inputs, labels = data\n",
    "    if use_gpu:\n",
    "        X = Variable(inputs.cuda())\n",
    "    else:\n",
    "        X = Variable(inputs)\n",
    "    results = model(X)\n",
    "    if use_gpu:\n",
    "        results = results.cpu()\n",
    "    break"
   ]
  },
  {
   "cell_type": "code",
   "execution_count": null,
   "metadata": {
    "collapsed": true
   },
   "outputs": [],
   "source": []
  }
 ],
 "metadata": {
  "kernelspec": {
   "display_name": "Python 3",
   "language": "python",
   "name": "python3"
  },
  "language_info": {
   "codemirror_mode": {
    "name": "ipython",
    "version": 3
   },
   "file_extension": ".py",
   "mimetype": "text/x-python",
   "name": "python",
   "nbconvert_exporter": "python",
   "pygments_lexer": "ipython3",
   "version": "3.5.3"
  }
 },
 "nbformat": 4,
 "nbformat_minor": 2
}
