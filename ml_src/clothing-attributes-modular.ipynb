{
 "cells": [
  {
   "cell_type": "markdown",
   "metadata": {
    "deletable": true,
    "editable": true
   },
   "source": [
    "## Pre-Procesing"
   ]
  },
  {
   "cell_type": "code",
   "execution_count": 1,
   "metadata": {
    "collapsed": true,
    "deletable": true,
    "editable": true
   },
   "outputs": [],
   "source": [
    "from preprocessing import train_valid_test_split, combine_labels, get_attribute_dims"
   ]
  },
  {
   "cell_type": "code",
   "execution_count": 2,
   "metadata": {
    "collapsed": true,
    "deletable": true,
    "editable": true
   },
   "outputs": [],
   "source": [
    "# Train-Test Split Folders\n",
    "SOURCE_DATA_DIR = \"data/ClothingAttributeDataset/images/\"\n",
    "TARGET_DATA_DIR = \"data/ClothingAttributeDataset/\"\n",
    "\n",
    "# Labels File\n",
    "LABEL_DIR = \"data/ClothingAttributeDataset/labels/\"\n",
    "labels_file = \"data/labels.csv\"\n",
    "label_values_file = \"data/label_values.json\"\n",
    "\n",
    "# Train and Validation Images\n",
    "TRAIN_IMAGES_FOLDER = \"data/ClothingAttributeDataset/train/\"\n",
    "VALID_IMAGES_FOLDER = \"data/ClothingAttributeDataset/valid/\"\n",
    "TEST_IMAGES_FOLDER = \"data/ClothingAttributeDataset/test/\""
   ]
  },
  {
   "cell_type": "code",
   "execution_count": 3,
   "metadata": {
    "collapsed": false,
    "deletable": true,
    "editable": true
   },
   "outputs": [],
   "source": [
    "train_valid_test_split(SOURCE_DATA_DIR, TARGET_DATA_DIR, train_size=0.75, valid_size=0.15)"
   ]
  },
  {
   "cell_type": "code",
   "execution_count": 12,
   "metadata": {
    "collapsed": false,
    "deletable": true,
    "editable": true
   },
   "outputs": [
    {
     "name": "stdout",
     "output_type": "stream",
     "text": [
      "1392\r\n"
     ]
    }
   ],
   "source": [
    "!ls data/ClothingAttributeDataset/train | wc -l"
   ]
  },
  {
   "cell_type": "code",
   "execution_count": 13,
   "metadata": {
    "collapsed": false,
    "deletable": true,
    "editable": true
   },
   "outputs": [
    {
     "name": "stdout",
     "output_type": "stream",
     "text": [
      "278\r\n"
     ]
    }
   ],
   "source": [
    "!ls data/ClothingAttributeDataset/valid | wc -l"
   ]
  },
  {
   "cell_type": "code",
   "execution_count": 14,
   "metadata": {
    "collapsed": false
   },
   "outputs": [
    {
     "name": "stdout",
     "output_type": "stream",
     "text": [
      "186\r\n"
     ]
    }
   ],
   "source": [
    "!ls data/ClothingAttributeDataset/test | wc -l"
   ]
  },
  {
   "cell_type": "code",
   "execution_count": 6,
   "metadata": {
    "collapsed": false,
    "deletable": true,
    "editable": true
   },
   "outputs": [],
   "source": [
    "labels_df = combine_labels(LABEL_DIR, labels_file, label_values_file)"
   ]
  },
  {
   "cell_type": "code",
   "execution_count": 7,
   "metadata": {
    "collapsed": true,
    "deletable": true,
    "editable": true
   },
   "outputs": [],
   "source": [
    "# binary_columns = ['skin_exposure_GT', 'collar_GT', 'gender_GT', 'scarf_GT', 'necktie_GT',  'placket_GT']\n",
    "# multi_columns = ['category_GT', 'neckline_GT', 'sleevelength_GT']\n",
    "    \n",
    "# color_columns = ['white_GT', 'yellow_GT', 'gray_GT', 'green_GT', 'blue_GT', 'brown_GT', 'red_GT',\n",
    "#                  'cyan_GT', 'black_GT', 'purple_GT', 'many_colors_GT']\n",
    "# pattern_columns = ['pattern_spot_GT', 'pattern_solid_GT', 'pattern_graphics_GT', \n",
    "#                   'pattern_plaid_GT', 'pattern_stripe_GT', 'pattern_floral_GT']"
   ]
  },
  {
   "cell_type": "markdown",
   "metadata": {},
   "source": [
    "## Build Models"
   ]
  },
  {
   "cell_type": "code",
   "execution_count": 3,
   "metadata": {
    "collapsed": false,
    "deletable": true,
    "editable": true
   },
   "outputs": [],
   "source": [
    "from classifiers import get_pretrained_model, create_attributes_fc_model\n",
    "from utils import is_gpu_available"
   ]
  },
  {
   "cell_type": "code",
   "execution_count": 4,
   "metadata": {
    "collapsed": false,
    "deletable": true,
    "editable": true
   },
   "outputs": [],
   "source": [
    "target_dims = get_attribute_dims(label_values_file)"
   ]
  },
  {
   "cell_type": "code",
   "execution_count": 5,
   "metadata": {
    "collapsed": false,
    "deletable": true,
    "editable": true
   },
   "outputs": [
    {
     "data": {
      "text/plain": [
       "{'category_GT': 7,\n",
       " 'collar_GT': 2,\n",
       " 'gender_GT': 2,\n",
       " 'neckline_GT': 3,\n",
       " 'necktie_GT': 2,\n",
       " 'pattern_GT': 6,\n",
       " 'placket_GT': 2,\n",
       " 'scarf_GT': 2,\n",
       " 'skin_exposure_GT': 2,\n",
       " 'sleevelength_GT': 3}"
      ]
     },
     "execution_count": 5,
     "metadata": {},
     "output_type": "execute_result"
    }
   ],
   "source": [
    "target_dims"
   ]
  },
  {
   "cell_type": "code",
   "execution_count": 6,
   "metadata": {
    "collapsed": true
   },
   "outputs": [],
   "source": [
    "use_gpu = is_gpu_available()"
   ]
  },
  {
   "cell_type": "markdown",
   "metadata": {},
   "source": [
    "## Build Dense Models"
   ]
  },
  {
   "cell_type": "code",
   "execution_count": 22,
   "metadata": {
    "collapsed": true,
    "deletable": true,
    "editable": true
   },
   "outputs": [],
   "source": [
    "alexnet_conv, alexnet_fc, fc_dim = get_pretrained_model(\"alexnet\", pop_last_pool_layer=False, use_gpu=use_gpu)"
   ]
  },
  {
   "cell_type": "code",
   "execution_count": 23,
   "metadata": {
    "collapsed": false
   },
   "outputs": [
    {
     "data": {
      "text/plain": [
       "Sequential (\n",
       "  (0): Conv2d(3, 64, kernel_size=(11, 11), stride=(4, 4), padding=(2, 2))\n",
       "  (1): ReLU (inplace)\n",
       "  (2): MaxPool2d (size=(3, 3), stride=(2, 2), dilation=(1, 1))\n",
       "  (3): Conv2d(64, 192, kernel_size=(5, 5), stride=(1, 1), padding=(2, 2))\n",
       "  (4): ReLU (inplace)\n",
       "  (5): MaxPool2d (size=(3, 3), stride=(2, 2), dilation=(1, 1))\n",
       "  (6): Conv2d(192, 384, kernel_size=(3, 3), stride=(1, 1), padding=(1, 1))\n",
       "  (7): ReLU (inplace)\n",
       "  (8): Conv2d(384, 256, kernel_size=(3, 3), stride=(1, 1), padding=(1, 1))\n",
       "  (9): ReLU (inplace)\n",
       "  (10): Conv2d(256, 256, kernel_size=(3, 3), stride=(1, 1), padding=(1, 1))\n",
       "  (11): ReLU (inplace)\n",
       "  (12): MaxPool2d (size=(3, 3), stride=(2, 2), dilation=(1, 1))\n",
       ")"
      ]
     },
     "execution_count": 23,
     "metadata": {},
     "output_type": "execute_result"
    }
   ],
   "source": [
    "alexnet_conv"
   ]
  },
  {
   "cell_type": "code",
   "execution_count": 24,
   "metadata": {
    "collapsed": false
   },
   "outputs": [
    {
     "data": {
      "text/plain": [
       "Sequential (\n",
       "  (0): Dropout (p = 0.5)\n",
       "  (1): Linear (9216 -> 4096)\n",
       "  (2): ReLU (inplace)\n",
       "  (3): Dropout (p = 0.5)\n",
       "  (4): Linear (4096 -> 4096)\n",
       "  (5): ReLU (inplace)\n",
       "  (6): Linear (4096 -> 1000)\n",
       ")"
      ]
     },
     "execution_count": 24,
     "metadata": {},
     "output_type": "execute_result"
    }
   ],
   "source": [
    "alexnet_fc"
   ]
  },
  {
   "cell_type": "code",
   "execution_count": 19,
   "metadata": {
    "collapsed": false,
    "deletable": true,
    "editable": true
   },
   "outputs": [
    {
     "name": "stdout",
     "output_type": "stream",
     "text": [
      "Processing Attribute: placket_GT\n",
      "Processing Attribute: category_GT\n",
      "Processing Attribute: pattern_GT\n",
      "Processing Attribute: neckline_GT\n",
      "Processing Attribute: sleevelength_GT\n",
      "Processing Attribute: gender_GT\n",
      "Processing Attribute: collar_GT\n",
      "Processing Attribute: skin_exposure_GT\n",
      "Processing Attribute: scarf_GT\n",
      "Processing Attribute: necktie_GT\n"
     ]
    }
   ],
   "source": [
    "attribute_models = create_attributes_fc_model(alexnet_fc, alexnet_conv, fc_dim, \n",
    "                                target_dims, \"weights/\",\n",
    "                                labels_file, \n",
    "                                TRAIN_IMAGES_FOLDER, \n",
    "                                VALID_IMAGES_FOLDER, \n",
    "                                num_epochs=1, \n",
    "                                use_gpu=use_gpu,\n",
    "                                is_train=False)"
   ]
  },
  {
   "cell_type": "code",
   "execution_count": 20,
   "metadata": {
    "collapsed": false
   },
   "outputs": [
    {
     "data": {
      "text/plain": [
       "{'category_GT': AttributeModel (\n",
       "   (model): Sequential (\n",
       "     (0): Dropout (p = 0.5)\n",
       "     (1): Linear (9216 -> 4096)\n",
       "     (2): ReLU (inplace)\n",
       "     (3): Dropout (p = 0.5)\n",
       "     (4): Linear (4096 -> 4096)\n",
       "     (5): ReLU (inplace)\n",
       "     (6): Linear (4096 -> 7)\n",
       "   )\n",
       " ), 'collar_GT': AttributeModel (\n",
       "   (model): Sequential (\n",
       "     (0): Dropout (p = 0.5)\n",
       "     (1): Linear (9216 -> 4096)\n",
       "     (2): ReLU (inplace)\n",
       "     (3): Dropout (p = 0.5)\n",
       "     (4): Linear (4096 -> 4096)\n",
       "     (5): ReLU (inplace)\n",
       "     (6): Linear (4096 -> 2)\n",
       "   )\n",
       " ), 'gender_GT': AttributeModel (\n",
       "   (model): Sequential (\n",
       "     (0): Dropout (p = 0.5)\n",
       "     (1): Linear (9216 -> 4096)\n",
       "     (2): ReLU (inplace)\n",
       "     (3): Dropout (p = 0.5)\n",
       "     (4): Linear (4096 -> 4096)\n",
       "     (5): ReLU (inplace)\n",
       "     (6): Linear (4096 -> 2)\n",
       "   )\n",
       " ), 'neckline_GT': AttributeModel (\n",
       "   (model): Sequential (\n",
       "     (0): Dropout (p = 0.5)\n",
       "     (1): Linear (9216 -> 4096)\n",
       "     (2): ReLU (inplace)\n",
       "     (3): Dropout (p = 0.5)\n",
       "     (4): Linear (4096 -> 4096)\n",
       "     (5): ReLU (inplace)\n",
       "     (6): Linear (4096 -> 3)\n",
       "   )\n",
       " ), 'necktie_GT': AttributeModel (\n",
       "   (model): Sequential (\n",
       "     (0): Dropout (p = 0.5)\n",
       "     (1): Linear (9216 -> 4096)\n",
       "     (2): ReLU (inplace)\n",
       "     (3): Dropout (p = 0.5)\n",
       "     (4): Linear (4096 -> 4096)\n",
       "     (5): ReLU (inplace)\n",
       "     (6): Linear (4096 -> 2)\n",
       "   )\n",
       " ), 'pattern_GT': AttributeModel (\n",
       "   (model): Sequential (\n",
       "     (0): Dropout (p = 0.5)\n",
       "     (1): Linear (9216 -> 4096)\n",
       "     (2): ReLU (inplace)\n",
       "     (3): Dropout (p = 0.5)\n",
       "     (4): Linear (4096 -> 4096)\n",
       "     (5): ReLU (inplace)\n",
       "     (6): Linear (4096 -> 6)\n",
       "   )\n",
       " ), 'placket_GT': AttributeModel (\n",
       "   (model): Sequential (\n",
       "     (0): Dropout (p = 0.5)\n",
       "     (1): Linear (9216 -> 4096)\n",
       "     (2): ReLU (inplace)\n",
       "     (3): Dropout (p = 0.5)\n",
       "     (4): Linear (4096 -> 4096)\n",
       "     (5): ReLU (inplace)\n",
       "     (6): Linear (4096 -> 2)\n",
       "   )\n",
       " ), 'scarf_GT': AttributeModel (\n",
       "   (model): Sequential (\n",
       "     (0): Dropout (p = 0.5)\n",
       "     (1): Linear (9216 -> 4096)\n",
       "     (2): ReLU (inplace)\n",
       "     (3): Dropout (p = 0.5)\n",
       "     (4): Linear (4096 -> 4096)\n",
       "     (5): ReLU (inplace)\n",
       "     (6): Linear (4096 -> 2)\n",
       "   )\n",
       " ), 'skin_exposure_GT': AttributeModel (\n",
       "   (model): Sequential (\n",
       "     (0): Dropout (p = 0.5)\n",
       "     (1): Linear (9216 -> 4096)\n",
       "     (2): ReLU (inplace)\n",
       "     (3): Dropout (p = 0.5)\n",
       "     (4): Linear (4096 -> 4096)\n",
       "     (5): ReLU (inplace)\n",
       "     (6): Linear (4096 -> 2)\n",
       "   )\n",
       " ), 'sleevelength_GT': AttributeModel (\n",
       "   (model): Sequential (\n",
       "     (0): Dropout (p = 0.5)\n",
       "     (1): Linear (9216 -> 4096)\n",
       "     (2): ReLU (inplace)\n",
       "     (3): Dropout (p = 0.5)\n",
       "     (4): Linear (4096 -> 4096)\n",
       "     (5): ReLU (inplace)\n",
       "     (6): Linear (4096 -> 3)\n",
       "   )\n",
       " )}"
      ]
     },
     "execution_count": 20,
     "metadata": {},
     "output_type": "execute_result"
    }
   ],
   "source": [
    "attribute_models"
   ]
  },
  {
   "cell_type": "markdown",
   "metadata": {},
   "source": [
    "## Fully FCN Model"
   ]
  },
  {
   "cell_type": "code",
   "execution_count": 7,
   "metadata": {
    "collapsed": false
   },
   "outputs": [],
   "source": [
    "pretrained_conv_model, _, _ = get_pretrained_model(\"vgg16\", pop_last_pool_layer=True, use_gpu=use_gpu)"
   ]
  },
  {
   "cell_type": "code",
   "execution_count": 8,
   "metadata": {
    "collapsed": true
   },
   "outputs": [],
   "source": [
    "from classifiers import AttributeFCN, create_attributes_model"
   ]
  },
  {
   "cell_type": "code",
   "execution_count": 11,
   "metadata": {
    "collapsed": false
   },
   "outputs": [
    {
     "data": {
      "text/plain": [
       "{'collar_GT': 2, 'scarf_GT': 2, 'sleevelength_GT': 3}"
      ]
     },
     "execution_count": 11,
     "metadata": {},
     "output_type": "execute_result"
    }
   ],
   "source": [
    "dict(list(target_dims.items())[:3])"
   ]
  },
  {
   "cell_type": "code",
   "execution_count": 14,
   "metadata": {
    "collapsed": false
   },
   "outputs": [
    {
     "name": "stdout",
     "output_type": "stream",
     "text": [
      "category_GT.pth  neckline_GT.pth  placket_GT.pth\tsleevelength_GT.pth\r\n",
      "collar_GT.pth\t necktie_GT.pth   scarf_GT.pth\r\n",
      "gender_GT.pth\t pattern_GT.pth   skin_exposure_GT.pth\r\n"
     ]
    }
   ],
   "source": [
    "!ls weights/vgg16-fcn-3/"
   ]
  },
  {
   "cell_type": "code",
   "execution_count": null,
   "metadata": {
    "collapsed": false
   },
   "outputs": [],
   "source": [
    "attribute_models = create_attributes_model(AttributeFCN, 512, pretrained_conv_model,\n",
    "                                target_dims, \n",
    "#                                 dict(list(target_dims.items())[:3]),\n",
    "                                \"weights/vgg16-fcn-4/\",\n",
    "                                labels_file, \n",
    "                                 TRAIN_IMAGES_FOLDER, \n",
    "                                 VALID_IMAGES_FOLDER, \n",
    "                                 num_epochs=1, \n",
    "                                 is_train=True,\n",
    "                                 use_gpu=use_gpu)"
   ]
  },
  {
   "cell_type": "code",
   "execution_count": 11,
   "metadata": {
    "collapsed": false
   },
   "outputs": [
    {
     "name": "stdout",
     "output_type": "stream",
     "text": [
      "Processing Attribute: scarf_GT\n",
      "Start Training for: scarf_GT\n",
      "LR is set to 0.01\n",
      "train Epoch 0/4 Loss: 0.0195 Acc: 0.8114\n",
      "valid Epoch 0/4 Loss: 0.0171 Acc: 0.8347\n",
      "Training completed in 1.000000m 39.057248s\n",
      "Best val Acc: 0.875000\n",
      "Processing Attribute: category_GT\n",
      "Start Training for: category_GT\n",
      "LR is set to 0.01\n",
      "train Epoch 0/4 Loss: 0.0623 Acc: 0.3644\n",
      "valid Epoch 0/4 Loss: 0.0604 Acc: 0.4304\n",
      "Training completed in 1.000000m 8.012913s\n",
      "Best val Acc: 0.575949\n",
      "Processing Attribute: necktie_GT\n",
      "Start Training for: necktie_GT\n",
      "LR is set to 0.01\n",
      "train Epoch 0/4 Loss: 0.0181 Acc: 0.8775\n",
      "valid Epoch 0/4 Loss: 0.0164 Acc: 0.9046\n",
      "Training completed in 1.000000m 44.066475s\n",
      "Best val Acc: 0.950382\n",
      "Processing Attribute: neckline_GT\n",
      "Start Training for: neckline_GT\n",
      "LR is set to 0.01\n",
      "train Epoch 0/4 Loss: 0.0342 Acc: 0.4840\n",
      "valid Epoch 0/4 Loss: 0.0317 Acc: 0.6158\n",
      "Training completed in 1.000000m 20.402497s\n",
      "Best val Acc: 0.631579\n",
      "Processing Attribute: skin_exposure_GT\n",
      "Start Training for: skin_exposure_GT\n",
      "LR is set to 0.01\n",
      "train Epoch 0/4 Loss: 0.0183 Acc: 0.8485\n",
      "valid Epoch 0/4 Loss: 0.0147 Acc: 0.9402\n",
      "Training completed in 1.000000m 41.242872s\n",
      "Best val Acc: 0.940239\n",
      "Processing Attribute: sleevelength_GT\n",
      "Start Training for: sleevelength_GT\n",
      "LR is set to 0.01\n",
      "train Epoch 0/4 Loss: 0.0315 Acc: 0.6804\n",
      "valid Epoch 0/4 Loss: 0.0293 Acc: 0.7407\n",
      "Training completed in 1.000000m 46.758268s\n",
      "Best val Acc: 0.855556\n",
      "Processing Attribute: pattern_GT\n",
      "Start Training for: pattern_GT\n",
      "LR is set to 0.01\n",
      "train Epoch 0/4 Loss: 0.0550 Acc: 0.5176\n",
      "valid Epoch 0/4 Loss: 0.0526 Acc: 0.5884\n",
      "Training completed in 1.000000m 50.705903s\n",
      "Best val Acc: 0.660650\n",
      "Processing Attribute: placket_GT\n",
      "Start Training for: placket_GT\n",
      "LR is set to 0.01\n",
      "train Epoch 0/4 Loss: 0.0183 Acc: 0.7375\n",
      "valid Epoch 0/4 Loss: 0.0166 Acc: 0.8358\n",
      "Training completed in 1.000000m 46.652117s\n",
      "Best val Acc: 0.843284\n",
      "Processing Attribute: gender_GT\n",
      "Start Training for: gender_GT\n",
      "LR is set to 0.01\n",
      "train Epoch 0/4 Loss: 0.0188 Acc: 0.7535\n",
      "valid Epoch 0/4 Loss: 0.0171 Acc: 0.8377\n",
      "Training completed in 1.000000m 47.357533s\n",
      "Best val Acc: 0.905660\n",
      "Processing Attribute: collar_GT\n",
      "Start Training for: collar_GT\n",
      "LR is set to 0.01\n",
      "train Epoch 0/4 Loss: 0.0198 Acc: 0.6718\n",
      "valid Epoch 0/4 Loss: 0.0170 Acc: 0.8286\n",
      "Training completed in 1.000000m 28.205028s\n",
      "Best val Acc: 0.890476\n"
     ]
    }
   ],
   "source": [
    "attribute_models = create_attributes_model(AttributeFCN, 512, pretrained_conv_model,\n",
    "                                target_dims, \n",
    "#                                 dict(list(target_dims.items())[:3]),\n",
    "                                \"weights/vgg16-fcn-test/\",\n",
    "                                labels_file, \n",
    "                                 TRAIN_IMAGES_FOLDER, \n",
    "                                 VALID_IMAGES_FOLDER, \n",
    "                                 num_epochs=5, \n",
    "                                 is_train=True,\n",
    "                                 use_gpu=use_gpu)"
   ]
  },
  {
   "cell_type": "code",
   "execution_count": null,
   "metadata": {
    "collapsed": true
   },
   "outputs": [],
   "source": [
    "# attribute_models = create_attributes_model(pretrained_fc, pretrained_conv_model, fc_dim, target_dims, \"weights-fcn/\",\n",
    "#                                 labels_file, \n",
    "#                                  TRAIN_IMAGES_FOLDER, \n",
    "#                                  VALID_IMAGES_FOLDER, \n",
    "#                                  num_epochs=1, is_train=True)"
   ]
  },
  {
   "cell_type": "markdown",
   "metadata": {
    "deletable": true,
    "editable": true
   },
   "source": [
    "## Evaluate the Model"
   ]
  },
  {
   "cell_type": "code",
   "execution_count": 7,
   "metadata": {
    "collapsed": false,
    "deletable": true,
    "editable": true
   },
   "outputs": [],
   "source": [
    "import numpy as np\n",
    "from scipy.misc import imread, imsave, imresize\n",
    "from matplotlib import pyplot as plt\n",
    "\n",
    "%matplotlib inline"
   ]
  },
  {
   "cell_type": "code",
   "execution_count": 8,
   "metadata": {
    "collapsed": false,
    "deletable": true,
    "editable": true
   },
   "outputs": [],
   "source": [
    "import torch\n",
    "\n",
    "from preprocessing import image_loader, load_label_values\n",
    "from classifiers import predict_attributes, get_pretrained_model\n",
    "from classifiers import AttributeFCN, create_attributes_model"
   ]
  },
  {
   "cell_type": "code",
   "execution_count": 9,
   "metadata": {
    "collapsed": false,
    "deletable": true,
    "editable": true
   },
   "outputs": [
    {
     "data": {
      "text/plain": [
       "<matplotlib.image.AxesImage at 0x7f9f6652e978>"
      ]
     },
     "execution_count": 9,
     "metadata": {},
     "output_type": "execute_result"
    },
    {
     "data": {
      "image/png": "[encoded data removed]",
      "text/plain": [
       "<matplotlib.figure.Figure at 0x7f9f694d4f60>"
      ]
     },
     "metadata": {},
     "output_type": "display_data"
    }
   ],
   "source": [
    "img = imread(\"data/ClothingAttributeDataset/valid/000032.jpg\")\n",
    "plt.imshow(img)"
   ]
  },
  {
   "cell_type": "code",
   "execution_count": 10,
   "metadata": {
    "collapsed": false,
    "deletable": true,
    "editable": true
   },
   "outputs": [],
   "source": [
    "pretrained_conv_model, _, _ = get_pretrained_model(\"alexnet\", pop_last_pool_layer=True, use_gpu=use_gpu)"
   ]
  },
  {
   "cell_type": "code",
   "execution_count": 11,
   "metadata": {
    "collapsed": false
   },
   "outputs": [],
   "source": [
    "target_dims = get_attribute_dims(label_values_file)"
   ]
  },
  {
   "cell_type": "code",
   "execution_count": 45,
   "metadata": {
    "collapsed": false
   },
   "outputs": [
    {
     "name": "stdout",
     "output_type": "stream",
     "text": [
      "Processing Attribute: collar_GT\n",
      "Processing Attribute: scarf_GT\n",
      "Processing Attribute: sleevelength_GT\n",
      "Processing Attribute: pattern_GT\n",
      "Processing Attribute: gender_GT\n",
      "Processing Attribute: placket_GT\n",
      "Processing Attribute: skin_exposure_GT\n",
      "Processing Attribute: necktie_GT\n",
      "Processing Attribute: category_GT\n",
      "Processing Attribute: neckline_GT\n"
     ]
    }
   ],
   "source": [
    "attribute_models = create_attributes_model(AttributeFCN, 512, pretrained_conv_model,\n",
    "                                target_dims, \n",
    "                                # dict(list(target_dims.items())[:3]),\n",
    "                                \"weights/vgg16-fcn-4\",\n",
    "                                labels_file, \n",
    "                                TRAIN_IMAGES_FOLDER, \n",
    "                                VALID_IMAGES_FOLDER, \n",
    "                                num_epochs=1, \n",
    "                                is_train=False,\n",
    "                                use_gpu=use_gpu)"
   ]
  },
  {
   "cell_type": "code",
   "execution_count": 13,
   "metadata": {
    "collapsed": true
   },
   "outputs": [],
   "source": [
    "# use_gpu = torch.cuda.is_available()\n",
    "\n",
    "# def \n",
    "# if use_gpu:\n",
    "#     pretrained_conv_model = pretrained_conv_model.cuda()\n",
    "#     for model in attribute_models.values():\n",
    "#         model.cuda()"
   ]
  },
  {
   "cell_type": "code",
   "execution_count": 17,
   "metadata": {
    "collapsed": false,
    "deletable": true,
    "editable": true
   },
   "outputs": [],
   "source": [
    "label_values = load_label_values(label_values_file)"
   ]
  },
  {
   "cell_type": "code",
   "execution_count": 15,
   "metadata": {
    "collapsed": true
   },
   "outputs": [],
   "source": [
    "image_url = \"data/ClothingAttributeDataset/valid/000026.jpg\""
   ]
  },
  {
   "cell_type": "code",
   "execution_count": 23,
   "metadata": {
    "collapsed": false
   },
   "outputs": [],
   "source": [
    "image_features = image_loader(image_url, use_gpu=True)"
   ]
  },
  {
   "cell_type": "code",
   "execution_count": 30,
   "metadata": {
    "collapsed": false
   },
   "outputs": [
    {
     "data": {
      "text/plain": [
       "torch.Size([1, 256, 11, 7])"
      ]
     },
     "execution_count": 30,
     "metadata": {},
     "output_type": "execute_result"
    }
   ],
   "source": [
    "alexnet_conv(image_features).size()"
   ]
  },
  {
   "cell_type": "code",
   "execution_count": 24,
   "metadata": {
    "collapsed": false
   },
   "outputs": [
    {
     "data": {
      "text/plain": [
       "torch.Size([1, 3, 400, 266])"
      ]
     },
     "execution_count": 24,
     "metadata": {},
     "output_type": "execute_result"
    }
   ],
   "source": [
    "image_features.size()"
   ]
  },
  {
   "cell_type": "code",
   "execution_count": 27,
   "metadata": {
    "collapsed": false
   },
   "outputs": [],
   "source": [
    "pretrained_features = pretrained_conv_model(image_features)"
   ]
  },
  {
   "cell_type": "code",
   "execution_count": 28,
   "metadata": {
    "collapsed": false
   },
   "outputs": [
    {
     "data": {
      "text/plain": [
       "torch.Size([1, 512, 25, 16])"
      ]
     },
     "execution_count": 28,
     "metadata": {},
     "output_type": "execute_result"
    }
   ],
   "source": [
    "pretrained_features.size()"
   ]
  },
  {
   "cell_type": "code",
   "execution_count": 21,
   "metadata": {
    "collapsed": false
   },
   "outputs": [
    {
     "name": "stdout",
     "output_type": "stream",
     "text": [
      "Predicting placket_GT\n"
     ]
    },
    {
     "ename": "RuntimeError",
     "evalue": "size mismatch at /py/conda-bld/pytorch_1490826558918/work/torch/lib/THC/generic/THCTensorMathBlas.cu:243",
     "output_type": "error",
     "traceback": [
      "\u001b[0;31m---------------------------------------------------------------------------\u001b[0m",
      "\u001b[0;31mRuntimeError\u001b[0m                              Traceback (most recent call last)",
      "\u001b[0;32m<ipython-input-21-942f24644546>\u001b[0m in \u001b[0;36m<module>\u001b[0;34m()\u001b[0m\n\u001b[1;32m      4\u001b[0m                             \u001b[0mattribute_idx_map\u001b[0m\u001b[0;34m=\u001b[0m\u001b[0mlabel_values\u001b[0m\u001b[0;34m[\u001b[0m\u001b[0;34m\"idx_to_names\"\u001b[0m\u001b[0;34m]\u001b[0m\u001b[0;34m,\u001b[0m\u001b[0;34m\u001b[0m\u001b[0m\n\u001b[1;32m      5\u001b[0m                             \u001b[0mflatten_pretrained_out\u001b[0m\u001b[0;34m=\u001b[0m\u001b[0;32mTrue\u001b[0m\u001b[0;34m,\u001b[0m\u001b[0;34m\u001b[0m\u001b[0m\n\u001b[0;32m----> 6\u001b[0;31m                             use_gpu=use_gpu)\n\u001b[0m",
      "\u001b[0;32m/home/paperspace/projects/insight-clothing-attributes/ml_src/classifiers.py\u001b[0m in \u001b[0;36mpredict_attributes\u001b[0;34m(image_url, pretrained_model, attribute_models, attribute_idx_map, flatten_pretrained_out, use_gpu)\u001b[0m\n\u001b[1;32m    275\u001b[0m     \u001b[0;32mfor\u001b[0m \u001b[0mattrib_name\u001b[0m\u001b[0;34m,\u001b[0m \u001b[0mmodel\u001b[0m \u001b[0;32min\u001b[0m \u001b[0mattribute_models\u001b[0m\u001b[0;34m.\u001b[0m\u001b[0mitems\u001b[0m\u001b[0;34m(\u001b[0m\u001b[0;34m)\u001b[0m\u001b[0;34m:\u001b[0m\u001b[0;34m\u001b[0m\u001b[0m\n\u001b[1;32m    276\u001b[0m         \u001b[0mprint\u001b[0m\u001b[0;34m(\u001b[0m\u001b[0;34m\"Predicting {}\"\u001b[0m\u001b[0;34m.\u001b[0m\u001b[0mformat\u001b[0m\u001b[0;34m(\u001b[0m\u001b[0mattrib_name\u001b[0m\u001b[0;34m)\u001b[0m\u001b[0;34m)\u001b[0m\u001b[0;34m\u001b[0m\u001b[0m\n\u001b[0;32m--> 277\u001b[0;31m         \u001b[0moutputs\u001b[0m \u001b[0;34m=\u001b[0m \u001b[0mpredict_model\u001b[0m\u001b[0;34m(\u001b[0m\u001b[0mmodel\u001b[0m\u001b[0;34m,\u001b[0m \u001b[0mpretrained_features\u001b[0m\u001b[0;34m)\u001b[0m\u001b[0;34m\u001b[0m\u001b[0m\n\u001b[0m\u001b[1;32m    278\u001b[0m         \u001b[0;32mif\u001b[0m \u001b[0muse_gpu\u001b[0m\u001b[0;34m:\u001b[0m\u001b[0;34m\u001b[0m\u001b[0m\n\u001b[1;32m    279\u001b[0m             \u001b[0moutputs_arr\u001b[0m \u001b[0;34m=\u001b[0m \u001b[0moutputs\u001b[0m\u001b[0;34m.\u001b[0m\u001b[0mdata\u001b[0m\u001b[0;34m.\u001b[0m\u001b[0mcpu\u001b[0m\u001b[0;34m(\u001b[0m\u001b[0;34m)\u001b[0m\u001b[0;34m\u001b[0m\u001b[0m\n",
      "\u001b[0;32m/home/paperspace/projects/insight-clothing-attributes/ml_src/classifiers.py\u001b[0m in \u001b[0;36mpredict_model\u001b[0;34m(model, inputs, flatten)\u001b[0m\n\u001b[1;32m    257\u001b[0m \u001b[0;34m\u001b[0m\u001b[0m\n\u001b[1;32m    258\u001b[0m \u001b[0;32mdef\u001b[0m \u001b[0mpredict_model\u001b[0m\u001b[0;34m(\u001b[0m\u001b[0mmodel\u001b[0m\u001b[0;34m,\u001b[0m \u001b[0minputs\u001b[0m\u001b[0;34m,\u001b[0m \u001b[0mflatten\u001b[0m\u001b[0;34m=\u001b[0m\u001b[0;32mFalse\u001b[0m\u001b[0;34m)\u001b[0m\u001b[0;34m:\u001b[0m\u001b[0;34m\u001b[0m\u001b[0m\n\u001b[0;32m--> 259\u001b[0;31m     \u001b[0moutputs\u001b[0m \u001b[0;34m=\u001b[0m \u001b[0mmodel\u001b[0m\u001b[0;34m(\u001b[0m\u001b[0minputs\u001b[0m\u001b[0;34m)\u001b[0m\u001b[0;34m\u001b[0m\u001b[0m\n\u001b[0m\u001b[1;32m    260\u001b[0m     \u001b[0;32mif\u001b[0m \u001b[0mflatten\u001b[0m\u001b[0;34m:\u001b[0m\u001b[0;34m\u001b[0m\u001b[0m\n\u001b[1;32m    261\u001b[0m         \u001b[0moutputs\u001b[0m \u001b[0;34m=\u001b[0m \u001b[0moutputs\u001b[0m\u001b[0;34m.\u001b[0m\u001b[0mview\u001b[0m\u001b[0;34m(\u001b[0m\u001b[0moutputs\u001b[0m\u001b[0;34m.\u001b[0m\u001b[0msize\u001b[0m\u001b[0;34m(\u001b[0m\u001b[0;36m0\u001b[0m\u001b[0;34m)\u001b[0m\u001b[0;34m,\u001b[0m \u001b[0;34m-\u001b[0m\u001b[0;36m1\u001b[0m\u001b[0;34m)\u001b[0m\u001b[0;34m\u001b[0m\u001b[0m\n",
      "\u001b[0;32m/home/paperspace/miniconda3/envs/py35/lib/python3.5/site-packages/torch/nn/modules/module.py\u001b[0m in \u001b[0;36m__call__\u001b[0;34m(self, *input, **kwargs)\u001b[0m\n\u001b[1;32m    204\u001b[0m \u001b[0;34m\u001b[0m\u001b[0m\n\u001b[1;32m    205\u001b[0m     \u001b[0;32mdef\u001b[0m \u001b[0m__call__\u001b[0m\u001b[0;34m(\u001b[0m\u001b[0mself\u001b[0m\u001b[0;34m,\u001b[0m \u001b[0;34m*\u001b[0m\u001b[0minput\u001b[0m\u001b[0;34m,\u001b[0m \u001b[0;34m**\u001b[0m\u001b[0mkwargs\u001b[0m\u001b[0;34m)\u001b[0m\u001b[0;34m:\u001b[0m\u001b[0;34m\u001b[0m\u001b[0m\n\u001b[0;32m--> 206\u001b[0;31m         \u001b[0mresult\u001b[0m \u001b[0;34m=\u001b[0m \u001b[0mself\u001b[0m\u001b[0;34m.\u001b[0m\u001b[0mforward\u001b[0m\u001b[0;34m(\u001b[0m\u001b[0;34m*\u001b[0m\u001b[0minput\u001b[0m\u001b[0;34m,\u001b[0m \u001b[0;34m**\u001b[0m\u001b[0mkwargs\u001b[0m\u001b[0;34m)\u001b[0m\u001b[0;34m\u001b[0m\u001b[0m\n\u001b[0m\u001b[1;32m    207\u001b[0m         \u001b[0;32mfor\u001b[0m \u001b[0mhook\u001b[0m \u001b[0;32min\u001b[0m \u001b[0mself\u001b[0m\u001b[0;34m.\u001b[0m\u001b[0m_forward_hooks\u001b[0m\u001b[0;34m.\u001b[0m\u001b[0mvalues\u001b[0m\u001b[0;34m(\u001b[0m\u001b[0;34m)\u001b[0m\u001b[0;34m:\u001b[0m\u001b[0;34m\u001b[0m\u001b[0m\n\u001b[1;32m    208\u001b[0m             \u001b[0mhook_result\u001b[0m \u001b[0;34m=\u001b[0m \u001b[0mhook\u001b[0m\u001b[0;34m(\u001b[0m\u001b[0mself\u001b[0m\u001b[0;34m,\u001b[0m \u001b[0minput\u001b[0m\u001b[0;34m,\u001b[0m \u001b[0mresult\u001b[0m\u001b[0;34m)\u001b[0m\u001b[0;34m\u001b[0m\u001b[0m\n",
      "\u001b[0;32m/home/paperspace/projects/insight-clothing-attributes/ml_src/classifiers.py\u001b[0m in \u001b[0;36mforward\u001b[0;34m(self, x)\u001b[0m\n\u001b[1;32m     60\u001b[0m \u001b[0;34m\u001b[0m\u001b[0m\n\u001b[1;32m     61\u001b[0m     \u001b[0;32mdef\u001b[0m \u001b[0mforward\u001b[0m\u001b[0;34m(\u001b[0m\u001b[0mself\u001b[0m\u001b[0;34m,\u001b[0m \u001b[0mx\u001b[0m\u001b[0;34m)\u001b[0m\u001b[0;34m:\u001b[0m\u001b[0;34m\u001b[0m\u001b[0m\n\u001b[0;32m---> 62\u001b[0;31m         \u001b[0;32mreturn\u001b[0m \u001b[0mF\u001b[0m\u001b[0;34m.\u001b[0m\u001b[0msoftmax\u001b[0m\u001b[0;34m(\u001b[0m\u001b[0mself\u001b[0m\u001b[0;34m.\u001b[0m\u001b[0mmodel\u001b[0m\u001b[0;34m(\u001b[0m\u001b[0mx\u001b[0m\u001b[0;34m)\u001b[0m\u001b[0;34m)\u001b[0m\u001b[0;34m\u001b[0m\u001b[0m\n\u001b[0m\u001b[1;32m     63\u001b[0m \u001b[0;34m\u001b[0m\u001b[0m\n\u001b[1;32m     64\u001b[0m \u001b[0;32mclass\u001b[0m \u001b[0mAttributeFCN\u001b[0m\u001b[0;34m(\u001b[0m\u001b[0mnn\u001b[0m\u001b[0;34m.\u001b[0m\u001b[0mModule\u001b[0m\u001b[0;34m)\u001b[0m\u001b[0;34m:\u001b[0m\u001b[0;34m\u001b[0m\u001b[0m\n",
      "\u001b[0;32m/home/paperspace/miniconda3/envs/py35/lib/python3.5/site-packages/torch/nn/modules/module.py\u001b[0m in \u001b[0;36m__call__\u001b[0;34m(self, *input, **kwargs)\u001b[0m\n\u001b[1;32m    204\u001b[0m \u001b[0;34m\u001b[0m\u001b[0m\n\u001b[1;32m    205\u001b[0m     \u001b[0;32mdef\u001b[0m \u001b[0m__call__\u001b[0m\u001b[0;34m(\u001b[0m\u001b[0mself\u001b[0m\u001b[0;34m,\u001b[0m \u001b[0;34m*\u001b[0m\u001b[0minput\u001b[0m\u001b[0;34m,\u001b[0m \u001b[0;34m**\u001b[0m\u001b[0mkwargs\u001b[0m\u001b[0;34m)\u001b[0m\u001b[0;34m:\u001b[0m\u001b[0;34m\u001b[0m\u001b[0m\n\u001b[0;32m--> 206\u001b[0;31m         \u001b[0mresult\u001b[0m \u001b[0;34m=\u001b[0m \u001b[0mself\u001b[0m\u001b[0;34m.\u001b[0m\u001b[0mforward\u001b[0m\u001b[0;34m(\u001b[0m\u001b[0;34m*\u001b[0m\u001b[0minput\u001b[0m\u001b[0;34m,\u001b[0m \u001b[0;34m**\u001b[0m\u001b[0mkwargs\u001b[0m\u001b[0;34m)\u001b[0m\u001b[0;34m\u001b[0m\u001b[0m\n\u001b[0m\u001b[1;32m    207\u001b[0m         \u001b[0;32mfor\u001b[0m \u001b[0mhook\u001b[0m \u001b[0;32min\u001b[0m \u001b[0mself\u001b[0m\u001b[0;34m.\u001b[0m\u001b[0m_forward_hooks\u001b[0m\u001b[0;34m.\u001b[0m\u001b[0mvalues\u001b[0m\u001b[0;34m(\u001b[0m\u001b[0;34m)\u001b[0m\u001b[0;34m:\u001b[0m\u001b[0;34m\u001b[0m\u001b[0m\n\u001b[1;32m    208\u001b[0m             \u001b[0mhook_result\u001b[0m \u001b[0;34m=\u001b[0m \u001b[0mhook\u001b[0m\u001b[0;34m(\u001b[0m\u001b[0mself\u001b[0m\u001b[0;34m,\u001b[0m \u001b[0minput\u001b[0m\u001b[0;34m,\u001b[0m \u001b[0mresult\u001b[0m\u001b[0;34m)\u001b[0m\u001b[0;34m\u001b[0m\u001b[0m\n",
      "\u001b[0;32m/home/paperspace/miniconda3/envs/py35/lib/python3.5/site-packages/torch/nn/modules/container.py\u001b[0m in \u001b[0;36mforward\u001b[0;34m(self, input)\u001b[0m\n\u001b[1;32m     62\u001b[0m     \u001b[0;32mdef\u001b[0m \u001b[0mforward\u001b[0m\u001b[0;34m(\u001b[0m\u001b[0mself\u001b[0m\u001b[0;34m,\u001b[0m \u001b[0minput\u001b[0m\u001b[0;34m)\u001b[0m\u001b[0;34m:\u001b[0m\u001b[0;34m\u001b[0m\u001b[0m\n\u001b[1;32m     63\u001b[0m         \u001b[0;32mfor\u001b[0m \u001b[0mmodule\u001b[0m \u001b[0;32min\u001b[0m \u001b[0mself\u001b[0m\u001b[0;34m.\u001b[0m\u001b[0m_modules\u001b[0m\u001b[0;34m.\u001b[0m\u001b[0mvalues\u001b[0m\u001b[0;34m(\u001b[0m\u001b[0;34m)\u001b[0m\u001b[0;34m:\u001b[0m\u001b[0;34m\u001b[0m\u001b[0m\n\u001b[0;32m---> 64\u001b[0;31m             \u001b[0minput\u001b[0m \u001b[0;34m=\u001b[0m \u001b[0mmodule\u001b[0m\u001b[0;34m(\u001b[0m\u001b[0minput\u001b[0m\u001b[0;34m)\u001b[0m\u001b[0;34m\u001b[0m\u001b[0m\n\u001b[0m\u001b[1;32m     65\u001b[0m         \u001b[0;32mreturn\u001b[0m \u001b[0minput\u001b[0m\u001b[0;34m\u001b[0m\u001b[0m\n\u001b[1;32m     66\u001b[0m \u001b[0;34m\u001b[0m\u001b[0m\n",
      "\u001b[0;32m/home/paperspace/miniconda3/envs/py35/lib/python3.5/site-packages/torch/nn/modules/module.py\u001b[0m in \u001b[0;36m__call__\u001b[0;34m(self, *input, **kwargs)\u001b[0m\n\u001b[1;32m    204\u001b[0m \u001b[0;34m\u001b[0m\u001b[0m\n\u001b[1;32m    205\u001b[0m     \u001b[0;32mdef\u001b[0m \u001b[0m__call__\u001b[0m\u001b[0;34m(\u001b[0m\u001b[0mself\u001b[0m\u001b[0;34m,\u001b[0m \u001b[0;34m*\u001b[0m\u001b[0minput\u001b[0m\u001b[0;34m,\u001b[0m \u001b[0;34m**\u001b[0m\u001b[0mkwargs\u001b[0m\u001b[0;34m)\u001b[0m\u001b[0;34m:\u001b[0m\u001b[0;34m\u001b[0m\u001b[0m\n\u001b[0;32m--> 206\u001b[0;31m         \u001b[0mresult\u001b[0m \u001b[0;34m=\u001b[0m \u001b[0mself\u001b[0m\u001b[0;34m.\u001b[0m\u001b[0mforward\u001b[0m\u001b[0;34m(\u001b[0m\u001b[0;34m*\u001b[0m\u001b[0minput\u001b[0m\u001b[0;34m,\u001b[0m \u001b[0;34m**\u001b[0m\u001b[0mkwargs\u001b[0m\u001b[0;34m)\u001b[0m\u001b[0;34m\u001b[0m\u001b[0m\n\u001b[0m\u001b[1;32m    207\u001b[0m         \u001b[0;32mfor\u001b[0m \u001b[0mhook\u001b[0m \u001b[0;32min\u001b[0m \u001b[0mself\u001b[0m\u001b[0;34m.\u001b[0m\u001b[0m_forward_hooks\u001b[0m\u001b[0;34m.\u001b[0m\u001b[0mvalues\u001b[0m\u001b[0;34m(\u001b[0m\u001b[0;34m)\u001b[0m\u001b[0;34m:\u001b[0m\u001b[0;34m\u001b[0m\u001b[0m\n\u001b[1;32m    208\u001b[0m             \u001b[0mhook_result\u001b[0m \u001b[0;34m=\u001b[0m \u001b[0mhook\u001b[0m\u001b[0;34m(\u001b[0m\u001b[0mself\u001b[0m\u001b[0;34m,\u001b[0m \u001b[0minput\u001b[0m\u001b[0;34m,\u001b[0m \u001b[0mresult\u001b[0m\u001b[0;34m)\u001b[0m\u001b[0;34m\u001b[0m\u001b[0m\n",
      "\u001b[0;32m/home/paperspace/miniconda3/envs/py35/lib/python3.5/site-packages/torch/nn/modules/linear.py\u001b[0m in \u001b[0;36mforward\u001b[0;34m(self, input)\u001b[0m\n\u001b[1;32m     52\u001b[0m             \u001b[0;32mreturn\u001b[0m \u001b[0mself\u001b[0m\u001b[0;34m.\u001b[0m\u001b[0m_backend\u001b[0m\u001b[0;34m.\u001b[0m\u001b[0mLinear\u001b[0m\u001b[0;34m(\u001b[0m\u001b[0;34m)\u001b[0m\u001b[0;34m(\u001b[0m\u001b[0minput\u001b[0m\u001b[0;34m,\u001b[0m \u001b[0mself\u001b[0m\u001b[0;34m.\u001b[0m\u001b[0mweight\u001b[0m\u001b[0;34m)\u001b[0m\u001b[0;34m\u001b[0m\u001b[0m\n\u001b[1;32m     53\u001b[0m         \u001b[0;32melse\u001b[0m\u001b[0;34m:\u001b[0m\u001b[0;34m\u001b[0m\u001b[0m\n\u001b[0;32m---> 54\u001b[0;31m             \u001b[0;32mreturn\u001b[0m \u001b[0mself\u001b[0m\u001b[0;34m.\u001b[0m\u001b[0m_backend\u001b[0m\u001b[0;34m.\u001b[0m\u001b[0mLinear\u001b[0m\u001b[0;34m(\u001b[0m\u001b[0;34m)\u001b[0m\u001b[0;34m(\u001b[0m\u001b[0minput\u001b[0m\u001b[0;34m,\u001b[0m \u001b[0mself\u001b[0m\u001b[0;34m.\u001b[0m\u001b[0mweight\u001b[0m\u001b[0;34m,\u001b[0m \u001b[0mself\u001b[0m\u001b[0;34m.\u001b[0m\u001b[0mbias\u001b[0m\u001b[0;34m)\u001b[0m\u001b[0;34m\u001b[0m\u001b[0m\n\u001b[0m\u001b[1;32m     55\u001b[0m \u001b[0;34m\u001b[0m\u001b[0m\n\u001b[1;32m     56\u001b[0m     \u001b[0;32mdef\u001b[0m \u001b[0m__repr__\u001b[0m\u001b[0;34m(\u001b[0m\u001b[0mself\u001b[0m\u001b[0;34m)\u001b[0m\u001b[0;34m:\u001b[0m\u001b[0;34m\u001b[0m\u001b[0m\n",
      "\u001b[0;32m/home/paperspace/miniconda3/envs/py35/lib/python3.5/site-packages/torch/nn/_functions/linear.py\u001b[0m in \u001b[0;36mforward\u001b[0;34m(self, input, weight, bias)\u001b[0m\n\u001b[1;32m      8\u001b[0m         \u001b[0mself\u001b[0m\u001b[0;34m.\u001b[0m\u001b[0msave_for_backward\u001b[0m\u001b[0;34m(\u001b[0m\u001b[0minput\u001b[0m\u001b[0;34m,\u001b[0m \u001b[0mweight\u001b[0m\u001b[0;34m,\u001b[0m \u001b[0mbias\u001b[0m\u001b[0;34m)\u001b[0m\u001b[0;34m\u001b[0m\u001b[0m\n\u001b[1;32m      9\u001b[0m         \u001b[0moutput\u001b[0m \u001b[0;34m=\u001b[0m \u001b[0minput\u001b[0m\u001b[0;34m.\u001b[0m\u001b[0mnew\u001b[0m\u001b[0;34m(\u001b[0m\u001b[0minput\u001b[0m\u001b[0;34m.\u001b[0m\u001b[0msize\u001b[0m\u001b[0;34m(\u001b[0m\u001b[0;36m0\u001b[0m\u001b[0;34m)\u001b[0m\u001b[0;34m,\u001b[0m \u001b[0mweight\u001b[0m\u001b[0;34m.\u001b[0m\u001b[0msize\u001b[0m\u001b[0;34m(\u001b[0m\u001b[0;36m0\u001b[0m\u001b[0;34m)\u001b[0m\u001b[0;34m)\u001b[0m\u001b[0;34m\u001b[0m\u001b[0m\n\u001b[0;32m---> 10\u001b[0;31m         \u001b[0moutput\u001b[0m\u001b[0;34m.\u001b[0m\u001b[0maddmm_\u001b[0m\u001b[0;34m(\u001b[0m\u001b[0;36m0\u001b[0m\u001b[0;34m,\u001b[0m \u001b[0;36m1\u001b[0m\u001b[0;34m,\u001b[0m \u001b[0minput\u001b[0m\u001b[0;34m,\u001b[0m \u001b[0mweight\u001b[0m\u001b[0;34m.\u001b[0m\u001b[0mt\u001b[0m\u001b[0;34m(\u001b[0m\u001b[0;34m)\u001b[0m\u001b[0;34m)\u001b[0m\u001b[0;34m\u001b[0m\u001b[0m\n\u001b[0m\u001b[1;32m     11\u001b[0m         \u001b[0;32mif\u001b[0m \u001b[0mbias\u001b[0m \u001b[0;32mis\u001b[0m \u001b[0;32mnot\u001b[0m \u001b[0;32mNone\u001b[0m\u001b[0;34m:\u001b[0m\u001b[0;34m\u001b[0m\u001b[0m\n\u001b[1;32m     12\u001b[0m             \u001b[0;31m# cuBLAS doesn't support 0 strides in sger, so we can't use expand\u001b[0m\u001b[0;34m\u001b[0m\u001b[0;34m\u001b[0m\u001b[0m\n",
      "\u001b[0;31mRuntimeError\u001b[0m: size mismatch at /py/conda-bld/pytorch_1490826558918/work/torch/lib/THC/generic/THCTensorMathBlas.cu:243"
     ]
    }
   ],
   "source": [
    "# Dense Layer FC\n",
    "\n",
    "results = predict_attributes(image_url, alexnet_conv, attribute_models, \n",
    "                            attribute_idx_map=label_values[\"idx_to_names\"],\n",
    "                            flatten_pretrained_out=True, \n",
    "                            use_gpu=use_gpu)"
   ]
  },
  {
   "cell_type": "code",
   "execution_count": 54,
   "metadata": {
    "collapsed": false
   },
   "outputs": [
    {
     "name": "stdout",
     "output_type": "stream",
     "text": [
      "Predicting collar_GT\n",
      "Predicting skin_exposure_GT\n",
      "Predicting sleevelength_GT\n",
      "Predicting pattern_GT\n",
      "Predicting gender_GT\n",
      "Predicting scarf_GT\n",
      "Predicting placket_GT\n",
      "Predicting category_GT\n",
      "Predicting necktie_GT\n",
      "Predicting neckline_GT\n"
     ]
    }
   ],
   "source": [
    "results = predict_attributes(image_url, pretrained_conv_model, attribute_models, \n",
    "                            attribute_idx_map=label_values[\"idx_to_names\"],\n",
    "                            flatten_pretrained_out=False, \n",
    "                            use_gpu=use_gpu)"
   ]
  },
  {
   "cell_type": "code",
   "execution_count": 49,
   "metadata": {
    "collapsed": false
   },
   "outputs": [
    {
     "data": {
      "text/plain": [
       "{'category_GT': ('Suit', 0.87647313),\n",
       " 'collar_GT': ('Has Collar', 0.99999976),\n",
       " 'gender_GT': ('Is Male', 0.90994614),\n",
       " 'neckline_GT': ('V-shape', 0.98505867),\n",
       " 'pattern_GT': ('Solid', 0.99999964),\n",
       " 'placket_GT': ('Has Placket', 1.0),\n",
       " 'sleevelength_GT': ('Long sleeves', 0.99999988)}"
      ]
     },
     "execution_count": 49,
     "metadata": {},
     "output_type": "execute_result"
    }
   ],
   "source": [
    "results"
   ]
  },
  {
   "cell_type": "code",
   "execution_count": 52,
   "metadata": {
    "collapsed": false
   },
   "outputs": [
    {
     "data": {
      "text/plain": [
       "{'category_GT': ('Suit', 0.86048335),\n",
       " 'collar_GT': ('Has Collar', 0.99999988),\n",
       " 'gender_GT': ('Is Male', 1.0),\n",
       " 'neckline_GT': ('V-shape', 0.98093021),\n",
       " 'pattern_GT': ('Solid', 0.99998975),\n",
       " 'placket_GT': ('Has Placket', 0.99999988),\n",
       " 'sleevelength_GT': ('Long sleeves', 0.99999845)}"
      ]
     },
     "execution_count": 52,
     "metadata": {},
     "output_type": "execute_result"
    }
   ],
   "source": [
    "results"
   ]
  },
  {
   "cell_type": "code",
   "execution_count": 55,
   "metadata": {
    "collapsed": false
   },
   "outputs": [
    {
     "data": {
      "text/plain": [
       "{'category_GT': ('Suit', 0.63289624),\n",
       " 'collar_GT': ('Has Collar', 0.99974996),\n",
       " 'gender_GT': ('Is Male', 0.99433702),\n",
       " 'neckline_GT': ('V-shape', 0.93334353),\n",
       " 'pattern_GT': ('Solid', 0.99988604),\n",
       " 'placket_GT': ('Has Placket', 0.99993217),\n",
       " 'sleevelength_GT': ('Long sleeves', 0.99996793)}"
      ]
     },
     "execution_count": 55,
     "metadata": {},
     "output_type": "execute_result"
    }
   ],
   "source": [
    "results"
   ]
  },
  {
   "cell_type": "markdown",
   "metadata": {},
   "source": [
    "## Visualize FCN"
   ]
  },
  {
   "cell_type": "code",
   "execution_count": 23,
   "metadata": {
    "collapsed": false
   },
   "outputs": [],
   "source": [
    "import scipy.misc"
   ]
  },
  {
   "cell_type": "code",
   "execution_count": 33,
   "metadata": {
    "collapsed": false
   },
   "outputs": [],
   "source": [
    "conv_layer_out = attribute_models[\"sleevelength_GT\"].conv_model(pretrained_features)"
   ]
  },
  {
   "cell_type": "code",
   "execution_count": 34,
   "metadata": {
    "collapsed": true
   },
   "outputs": [],
   "source": [
    "conv_arr2 = conv_layer_out[0].data.cpu().numpy()"
   ]
  },
  {
   "cell_type": "code",
   "execution_count": 25,
   "metadata": {
    "collapsed": false
   },
   "outputs": [],
   "source": [
    "conv_arr = conv_layer_out[0].data.cpu().numpy()"
   ]
  },
  {
   "cell_type": "code",
   "execution_count": 35,
   "metadata": {
    "collapsed": false
   },
   "outputs": [
    {
     "data": {
      "text/plain": [
       "array([-0.14064956, -0.18462452, -0.19912066,  0.39244321,  0.11226825,\n",
       "       -0.08380169,  0.19703917], dtype=float32)"
      ]
     },
     "execution_count": 35,
     "metadata": {},
     "output_type": "execute_result"
    }
   ],
   "source": [
    "np.mean(conv_arr2, axis=(1, 2))"
   ]
  },
  {
   "cell_type": "code",
   "execution_count": 26,
   "metadata": {
    "collapsed": false
   },
   "outputs": [
    {
     "data": {
      "text/plain": [
       "array([ 0.03558936, -0.21509379, -0.2884874 ,  0.58108062,  0.22265822,\n",
       "       -0.4062033 ,  0.08262175], dtype=float32)"
      ]
     },
     "execution_count": 26,
     "metadata": {},
     "output_type": "execute_result"
    }
   ],
   "source": [
    "np.mean(conv_arr, axis=(1, 2))"
   ]
  },
  {
   "cell_type": "code",
   "execution_count": 28,
   "metadata": {
    "collapsed": true
   },
   "outputs": [],
   "source": [
    "from torchvision import transforms"
   ]
  },
  {
   "cell_type": "code",
   "execution_count": 29,
   "metadata": {
    "collapsed": false
   },
   "outputs": [
    {
     "data": {
      "text/plain": [
       "torch.Size([1, 3, 224, 224])"
      ]
     },
     "execution_count": 29,
     "metadata": {},
     "output_type": "execute_result"
    }
   ],
   "source": [
    "image_features.size()"
   ]
  },
  {
   "cell_type": "code",
   "execution_count": 55,
   "metadata": {
    "collapsed": false
   },
   "outputs": [],
   "source": [
    "# transforms.ToPILImage()(image_features[0].data.cpu())"
   ]
  },
  {
   "cell_type": "code",
   "execution_count": 38,
   "metadata": {
    "collapsed": false
   },
   "outputs": [
    {
     "data": {
      "text/plain": [
       "(3, 400, 266)"
      ]
     },
     "execution_count": 38,
     "metadata": {},
     "output_type": "execute_result"
    }
   ],
   "source": [
    "image_features[0].data.cpu().numpy().shape"
   ]
  },
  {
   "cell_type": "code",
   "execution_count": 54,
   "metadata": {
    "collapsed": false
   },
   "outputs": [],
   "source": [
    "# plt.imshow(scipy.misc.imresize(scipy.misc.imread(image_url), (400, 266)))"
   ]
  },
  {
   "cell_type": "code",
   "execution_count": 75,
   "metadata": {
    "collapsed": false
   },
   "outputs": [],
   "source": [
    "conv_out = conv_layer_out[0].data.cpu().numpy()"
   ]
  },
  {
   "cell_type": "code",
   "execution_count": 67,
   "metadata": {
    "collapsed": false
   },
   "outputs": [],
   "source": [
    "conv_out_exp = np.exp(conv_out)"
   ]
  },
  {
   "cell_type": "code",
   "execution_count": 68,
   "metadata": {
    "collapsed": false
   },
   "outputs": [],
   "source": [
    "conv_out_sum = np.sum(conv_out_exp, 0)"
   ]
  },
  {
   "cell_type": "code",
   "execution_count": 69,
   "metadata": {
    "collapsed": false
   },
   "outputs": [],
   "source": [
    "conv_out_smax = (conv_out_exp / conv_out_sum)"
   ]
  },
  {
   "cell_type": "code",
   "execution_count": 37,
   "metadata": {
    "collapsed": false
   },
   "outputs": [
    {
     "ename": "NameError",
     "evalue": "name 'scipy' is not defined",
     "output_type": "error",
     "traceback": [
      "\u001b[0;31m---------------------------------------------------------------------------\u001b[0m",
      "\u001b[0;31mNameError\u001b[0m                                 Traceback (most recent call last)",
      "\u001b[0;32m<ipython-input-37-ae21ff64f0bb>\u001b[0m in \u001b[0;36m<module>\u001b[0;34m()\u001b[0m\n\u001b[0;32m----> 1\u001b[0;31m \u001b[0mplt\u001b[0m\u001b[0;34m.\u001b[0m\u001b[0mimshow\u001b[0m\u001b[0;34m(\u001b[0m\u001b[0mscipy\u001b[0m\u001b[0;34m.\u001b[0m\u001b[0mmisc\u001b[0m\u001b[0;34m.\u001b[0m\u001b[0mimresize\u001b[0m\u001b[0;34m(\u001b[0m\u001b[0mscipy\u001b[0m\u001b[0;34m.\u001b[0m\u001b[0mmisc\u001b[0m\u001b[0;34m.\u001b[0m\u001b[0mimread\u001b[0m\u001b[0;34m(\u001b[0m\u001b[0mimage_url\u001b[0m\u001b[0;34m)\u001b[0m\u001b[0;34m,\u001b[0m \u001b[0;34m(\u001b[0m\u001b[0;36m400\u001b[0m\u001b[0;34m,\u001b[0m \u001b[0;36m266\u001b[0m\u001b[0;34m)\u001b[0m\u001b[0;34m)\u001b[0m\u001b[0;34m)\u001b[0m\u001b[0;34m\u001b[0m\u001b[0m\n\u001b[0m\u001b[1;32m      2\u001b[0m plt.imshow(scipy.misc.imresize(conv_out[3], (400, 266), interp='nearest'), \n\u001b[1;32m      3\u001b[0m            alpha=0.5, cmap=\"cool\")\n",
      "\u001b[0;31mNameError\u001b[0m: name 'scipy' is not defined"
     ]
    }
   ],
   "source": [
    "plt.imshow(scipy.misc.imresize(scipy.misc.imread(image_url), (400, 266)))\n",
    "plt.imshow(scipy.misc.imresize(conv_out[3], (400, 266), interp='nearest'), \n",
    "           alpha=0.5, cmap=\"cool\")"
   ]
  },
  {
   "cell_type": "code",
   "execution_count": 71,
   "metadata": {
    "collapsed": false
   },
   "outputs": [
    {
     "data": {
      "text/plain": [
       "<matplotlib.image.AxesImage at 0x7f83cb87cda0>"
      ]
     },
     "execution_count": 71,
     "metadata": {},
     "output_type": "execute_result"
    },
    {
     "data": {
      "image/png": "[encoded data removed]",
      "text/plain": [
       "<matplotlib.figure.Figure at 0x7f83cb87c358>"
      ]
     },
     "metadata": {},
     "output_type": "display_data"
    }
   ],
   "source": [
    "plt.imshow(scipy.misc.imresize(scipy.misc.imread(image_url), (400, 266)))\n",
    "plt.imshow(scipy.misc.imresize(conv_out_smax[2], (400, 266), interp='nearest'), \n",
    "           alpha=0.4, cmap=\"cool\")"
   ]
  },
  {
   "cell_type": "markdown",
   "metadata": {
    "collapsed": true,
    "deletable": true,
    "editable": true
   },
   "source": [
    "## Confusion Matrix"
   ]
  },
  {
   "cell_type": "code",
   "execution_count": 57,
   "metadata": {
    "collapsed": false,
    "deletable": true,
    "editable": true
   },
   "outputs": [
    {
     "ename": "NameError",
     "evalue": "name 'dset_loaders' is not defined",
     "output_type": "error",
     "traceback": [
      "\u001b[0;31m---------------------------------------------------------------------------\u001b[0m",
      "\u001b[0;31mNameError\u001b[0m                                 Traceback (most recent call last)",
      "\u001b[0;32m<ipython-input-57-b1ed1ea4433b>\u001b[0m in \u001b[0;36m<module>\u001b[0;34m()\u001b[0m\n\u001b[0;32m----> 1\u001b[0;31m \u001b[0;32mfor\u001b[0m \u001b[0mdata\u001b[0m \u001b[0;32min\u001b[0m \u001b[0mdset_loaders\u001b[0m\u001b[0;34m[\u001b[0m\u001b[0;34m\"train\"\u001b[0m\u001b[0;34m]\u001b[0m\u001b[0;34m:\u001b[0m\u001b[0;34m\u001b[0m\u001b[0m\n\u001b[0m\u001b[1;32m      2\u001b[0m     \u001b[0minputs\u001b[0m\u001b[0;34m,\u001b[0m \u001b[0mlabels\u001b[0m \u001b[0;34m=\u001b[0m \u001b[0mdata\u001b[0m\u001b[0;34m\u001b[0m\u001b[0m\n\u001b[1;32m      3\u001b[0m     \u001b[0;32mif\u001b[0m \u001b[0muse_gpu\u001b[0m\u001b[0;34m:\u001b[0m\u001b[0;34m\u001b[0m\u001b[0m\n\u001b[1;32m      4\u001b[0m         \u001b[0mX\u001b[0m \u001b[0;34m=\u001b[0m \u001b[0mVariable\u001b[0m\u001b[0;34m(\u001b[0m\u001b[0minputs\u001b[0m\u001b[0;34m.\u001b[0m\u001b[0mcuda\u001b[0m\u001b[0;34m(\u001b[0m\u001b[0;34m)\u001b[0m\u001b[0;34m)\u001b[0m\u001b[0;34m\u001b[0m\u001b[0m\n\u001b[1;32m      5\u001b[0m     \u001b[0;32melse\u001b[0m\u001b[0;34m:\u001b[0m\u001b[0;34m\u001b[0m\u001b[0m\n",
      "\u001b[0;31mNameError\u001b[0m: name 'dset_loaders' is not defined"
     ]
    }
   ],
   "source": [
    "for data in dset_loaders[\"train\"]:\n",
    "    inputs, labels = data\n",
    "    if use_gpu:\n",
    "        X = Variable(inputs.cuda())\n",
    "    else:\n",
    "        X = Variable(inputs)\n",
    "    results = model(X)\n",
    "    if use_gpu:\n",
    "        results = results.cpu()\n",
    "    break"
   ]
  },
  {
   "cell_type": "code",
   "execution_count": 25,
   "metadata": {
    "collapsed": true,
    "deletable": true,
    "editable": true
   },
   "outputs": [],
   "source": [
    "data = [{\"placket_GT\": [\"Has Placket\", \"1.0%\"], \"sleevelength_GT\": [\"Long sleeves\", \"1.0%\"], \"category_GT\": [\"Suit\", \"1.0%\"], \"pattern_GT\": [\"Solid\", \"1.0%\"], \"neckline_GT\": [\"V-shape\", \"1.0%\"], \"collar_GT\": [\"Has Collar\", \"1.0%\"], \"gender_GT\": [\"Is Male\", \"1.0%\"]}]"
   ]
  },
  {
   "cell_type": "code",
   "execution_count": 26,
   "metadata": {
    "collapsed": true
   },
   "outputs": [],
   "source": [
    "import pandas as pd"
   ]
  },
  {
   "cell_type": "code",
   "execution_count": 28,
   "metadata": {
    "collapsed": false
   },
   "outputs": [
    {
     "data": {
      "text/plain": [
       "[{'category_GT': ['Suit', '1.0%'],\n",
       "  'collar_GT': ['Has Collar', '1.0%'],\n",
       "  'gender_GT': ['Is Male', '1.0%'],\n",
       "  'neckline_GT': ['V-shape', '1.0%'],\n",
       "  'pattern_GT': ['Solid', '1.0%'],\n",
       "  'placket_GT': ['Has Placket', '1.0%'],\n",
       "  'sleevelength_GT': ['Long sleeves', '1.0%']}]"
      ]
     },
     "execution_count": 28,
     "metadata": {},
     "output_type": "execute_result"
    }
   ],
   "source": [
    "data"
   ]
  },
  {
   "cell_type": "code",
   "execution_count": null,
   "metadata": {
    "collapsed": true
   },
   "outputs": [],
   "source": [
    "for "
   ]
  },
  {
   "cell_type": "code",
   "execution_count": 31,
   "metadata": {
    "collapsed": false
   },
   "outputs": [],
   "source": [
    "df = pd.DataFrame(data[0]).T"
   ]
  },
  {
   "cell_type": "code",
   "execution_count": 32,
   "metadata": {
    "collapsed": true
   },
   "outputs": [],
   "source": [
    "df.columns = [\"Prediction\", \"Probability\"]"
   ]
  },
  {
   "cell_type": "code",
   "execution_count": 35,
   "metadata": {
    "collapsed": false
   },
   "outputs": [],
   "source": [
    "df.index = df.index.str.replace(\"_GT\", \"\").str.capitalize()"
   ]
  },
  {
   "cell_type": "code",
   "execution_count": 36,
   "metadata": {
    "collapsed": false
   },
   "outputs": [
    {
     "data": {
      "text/html": [
       "<div>\n",
       "<table border=\"1\" class=\"dataframe\">\n",
       "  <thead>\n",
       "    <tr style=\"text-align: right;\">\n",
       "      <th></th>\n",
       "      <th>Prediction</th>\n",
       "      <th>Probability</th>\n",
       "    </tr>\n",
       "  </thead>\n",
       "  <tbody>\n",
       "    <tr>\n",
       "      <th>Category</th>\n",
       "      <td>Suit</td>\n",
       "      <td>1.0%</td>\n",
       "    </tr>\n",
       "    <tr>\n",
       "      <th>Collar</th>\n",
       "      <td>Has Collar</td>\n",
       "      <td>1.0%</td>\n",
       "    </tr>\n",
       "    <tr>\n",
       "      <th>Gender</th>\n",
       "      <td>Is Male</td>\n",
       "      <td>1.0%</td>\n",
       "    </tr>\n",
       "    <tr>\n",
       "      <th>Neckline</th>\n",
       "      <td>V-shape</td>\n",
       "      <td>1.0%</td>\n",
       "    </tr>\n",
       "    <tr>\n",
       "      <th>Pattern</th>\n",
       "      <td>Solid</td>\n",
       "      <td>1.0%</td>\n",
       "    </tr>\n",
       "    <tr>\n",
       "      <th>Placket</th>\n",
       "      <td>Has Placket</td>\n",
       "      <td>1.0%</td>\n",
       "    </tr>\n",
       "    <tr>\n",
       "      <th>Sleevelength</th>\n",
       "      <td>Long sleeves</td>\n",
       "      <td>1.0%</td>\n",
       "    </tr>\n",
       "  </tbody>\n",
       "</table>\n",
       "</div>"
      ],
      "text/plain": [
       "                Prediction Probability\n",
       "Category              Suit        1.0%\n",
       "Collar          Has Collar        1.0%\n",
       "Gender             Is Male        1.0%\n",
       "Neckline           V-shape        1.0%\n",
       "Pattern              Solid        1.0%\n",
       "Placket        Has Placket        1.0%\n",
       "Sleevelength  Long sleeves        1.0%"
      ]
     },
     "execution_count": 36,
     "metadata": {},
     "output_type": "execute_result"
    }
   ],
   "source": [
    "df"
   ]
  },
  {
   "cell_type": "code",
   "execution_count": null,
   "metadata": {
    "collapsed": true
   },
   "outputs": [],
   "source": []
  }
 ],
 "metadata": {
  "kernelspec": {
   "display_name": "Python 3",
   "language": "python",
   "name": "python3"
  },
  "language_info": {
   "codemirror_mode": {
    "name": "ipython",
    "version": 3
   },
   "file_extension": ".py",
   "mimetype": "text/x-python",
   "name": "python",
   "nbconvert_exporter": "python",
   "pygments_lexer": "ipython3",
   "version": "3.5.3"
  }
 },
 "nbformat": 4,
 "nbformat_minor": 2
}
