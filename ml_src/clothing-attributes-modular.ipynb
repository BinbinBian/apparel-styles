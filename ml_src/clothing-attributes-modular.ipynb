{
 "cells": [
  {
   "cell_type": "markdown",
   "metadata": {
    "deletable": true,
    "editable": true
   },
   "source": [
    "## Pre-Procesing"
   ]
  },
  {
   "cell_type": "code",
   "execution_count": 1,
   "metadata": {
    "collapsed": true,
    "deletable": true,
    "editable": true
   },
   "outputs": [],
   "source": [
    "from preprocessing import train_valid_test_split, combine_labels, get_attribute_dims"
   ]
  },
  {
   "cell_type": "code",
   "execution_count": 2,
   "metadata": {
    "collapsed": true,
    "deletable": true,
    "editable": true
   },
   "outputs": [],
   "source": [
    "# Train-Test Split Folders\n",
    "SOURCE_DATA_DIR = \"data/ClothingAttributeDataset/images/\"\n",
    "TARGET_DATA_DIR = \"data/ClothingAttributeDataset/\"\n",
    "\n",
    "# Labels File\n",
    "LABEL_DIR = \"data/ClothingAttributeDataset/labels/\"\n",
    "labels_file = \"data/labels.csv\"\n",
    "label_values_file = \"data/label_values.json\"\n",
    "\n",
    "# Train and Validation Images\n",
    "TRAIN_IMAGES_FOLDER = \"data/ClothingAttributeDataset/train/\"\n",
    "VALID_IMAGES_FOLDER = \"data/ClothingAttributeDataset/valid/\"\n",
    "TEST_IMAGES_FOLDER = \"data/ClothingAttributeDataset/test/\""
   ]
  },
  {
   "cell_type": "code",
   "execution_count": 3,
   "metadata": {
    "collapsed": false,
    "deletable": true,
    "editable": true
   },
   "outputs": [],
   "source": [
    "train_valid_test_split(SOURCE_DATA_DIR, TARGET_DATA_DIR, train_size=0.75, valid_size=0.15)"
   ]
  },
  {
   "cell_type": "code",
   "execution_count": 12,
   "metadata": {
    "collapsed": false,
    "deletable": true,
    "editable": true
   },
   "outputs": [
    {
     "name": "stdout",
     "output_type": "stream",
     "text": [
      "1392\r\n"
     ]
    }
   ],
   "source": [
    "!ls data/ClothingAttributeDataset/train | wc -l"
   ]
  },
  {
   "cell_type": "code",
   "execution_count": 13,
   "metadata": {
    "collapsed": false,
    "deletable": true,
    "editable": true
   },
   "outputs": [
    {
     "name": "stdout",
     "output_type": "stream",
     "text": [
      "278\r\n"
     ]
    }
   ],
   "source": [
    "!ls data/ClothingAttributeDataset/valid | wc -l"
   ]
  },
  {
   "cell_type": "code",
   "execution_count": 14,
   "metadata": {
    "collapsed": false
   },
   "outputs": [
    {
     "name": "stdout",
     "output_type": "stream",
     "text": [
      "186\r\n"
     ]
    }
   ],
   "source": [
    "!ls data/ClothingAttributeDataset/test | wc -l"
   ]
  },
  {
   "cell_type": "code",
   "execution_count": 6,
   "metadata": {
    "collapsed": false,
    "deletable": true,
    "editable": true
   },
   "outputs": [],
   "source": [
    "labels_df = combine_labels(LABEL_DIR, labels_file, label_values_file)"
   ]
  },
  {
   "cell_type": "code",
   "execution_count": 7,
   "metadata": {
    "collapsed": true,
    "deletable": true,
    "editable": true
   },
   "outputs": [],
   "source": [
    "# binary_columns = ['skin_exposure_GT', 'collar_GT', 'gender_GT', 'scarf_GT', 'necktie_GT',  'placket_GT']\n",
    "# multi_columns = ['category_GT', 'neckline_GT', 'sleevelength_GT']\n",
    "    \n",
    "# color_columns = ['white_GT', 'yellow_GT', 'gray_GT', 'green_GT', 'blue_GT', 'brown_GT', 'red_GT',\n",
    "#                  'cyan_GT', 'black_GT', 'purple_GT', 'many_colors_GT']\n",
    "# pattern_columns = ['pattern_spot_GT', 'pattern_solid_GT', 'pattern_graphics_GT', \n",
    "#                   'pattern_plaid_GT', 'pattern_stripe_GT', 'pattern_floral_GT']"
   ]
  },
  {
   "cell_type": "markdown",
   "metadata": {},
   "source": [
    "## Build Models"
   ]
  },
  {
   "cell_type": "code",
   "execution_count": 3,
   "metadata": {
    "collapsed": false,
    "deletable": true,
    "editable": true
   },
   "outputs": [],
   "source": [
    "from classifiers import get_pretrained_model, create_attributes_fc_model\n",
    "from utils import is_gpu_available"
   ]
  },
  {
   "cell_type": "code",
   "execution_count": 4,
   "metadata": {
    "collapsed": false,
    "deletable": true,
    "editable": true
   },
   "outputs": [],
   "source": [
    "target_dims = get_attribute_dims(label_values_file)"
   ]
  },
  {
   "cell_type": "code",
   "execution_count": 5,
   "metadata": {
    "collapsed": false,
    "deletable": true,
    "editable": true
   },
   "outputs": [
    {
     "data": {
      "text/plain": [
       "{'category_GT': 7,\n",
       " 'collar_GT': 2,\n",
       " 'gender_GT': 2,\n",
       " 'neckline_GT': 3,\n",
       " 'necktie_GT': 2,\n",
       " 'pattern_GT': 6,\n",
       " 'placket_GT': 2,\n",
       " 'scarf_GT': 2,\n",
       " 'skin_exposure_GT': 2,\n",
       " 'sleevelength_GT': 3}"
      ]
     },
     "execution_count": 5,
     "metadata": {},
     "output_type": "execute_result"
    }
   ],
   "source": [
    "target_dims"
   ]
  },
  {
   "cell_type": "code",
   "execution_count": 6,
   "metadata": {
    "collapsed": true
   },
   "outputs": [],
   "source": [
    "gender_dims = {\"gender_GT\": 2}"
   ]
  },
  {
   "cell_type": "code",
   "execution_count": 7,
   "metadata": {
    "collapsed": true
   },
   "outputs": [],
   "source": [
    "use_gpu = is_gpu_available()"
   ]
  },
  {
   "cell_type": "markdown",
   "metadata": {},
   "source": [
    "## Build Dense Models"
   ]
  },
  {
   "cell_type": "code",
   "execution_count": 8,
   "metadata": {
    "collapsed": false,
    "deletable": true,
    "editable": true
   },
   "outputs": [],
   "source": [
    "pretrained_conv, pretrained_fc, fc_dim = get_pretrained_model(\"resnet18\", pop_last_pool_layer=False, use_gpu=use_gpu)"
   ]
  },
  {
   "cell_type": "code",
   "execution_count": 9,
   "metadata": {
    "collapsed": false
   },
   "outputs": [
    {
     "data": {
      "text/plain": [
       "Sequential (\n",
       "  (0): Conv2d(3, 64, kernel_size=(7, 7), stride=(2, 2), padding=(3, 3), bias=False)\n",
       "  (1): BatchNorm2d(64, eps=1e-05, momentum=0.1, affine=True)\n",
       "  (2): ReLU (inplace)\n",
       "  (3): MaxPool2d (size=(3, 3), stride=(2, 2), padding=(1, 1), dilation=(1, 1))\n",
       "  (4): Sequential (\n",
       "    (0): BasicBlock (\n",
       "      (conv1): Conv2d(64, 64, kernel_size=(3, 3), stride=(1, 1), padding=(1, 1), bias=False)\n",
       "      (bn1): BatchNorm2d(64, eps=1e-05, momentum=0.1, affine=True)\n",
       "      (relu): ReLU (inplace)\n",
       "      (conv2): Conv2d(64, 64, kernel_size=(3, 3), stride=(1, 1), padding=(1, 1), bias=False)\n",
       "      (bn2): BatchNorm2d(64, eps=1e-05, momentum=0.1, affine=True)\n",
       "    )\n",
       "    (1): BasicBlock (\n",
       "      (conv1): Conv2d(64, 64, kernel_size=(3, 3), stride=(1, 1), padding=(1, 1), bias=False)\n",
       "      (bn1): BatchNorm2d(64, eps=1e-05, momentum=0.1, affine=True)\n",
       "      (relu): ReLU (inplace)\n",
       "      (conv2): Conv2d(64, 64, kernel_size=(3, 3), stride=(1, 1), padding=(1, 1), bias=False)\n",
       "      (bn2): BatchNorm2d(64, eps=1e-05, momentum=0.1, affine=True)\n",
       "    )\n",
       "  )\n",
       "  (5): Sequential (\n",
       "    (0): BasicBlock (\n",
       "      (conv1): Conv2d(64, 128, kernel_size=(3, 3), stride=(2, 2), padding=(1, 1), bias=False)\n",
       "      (bn1): BatchNorm2d(128, eps=1e-05, momentum=0.1, affine=True)\n",
       "      (relu): ReLU (inplace)\n",
       "      (conv2): Conv2d(128, 128, kernel_size=(3, 3), stride=(1, 1), padding=(1, 1), bias=False)\n",
       "      (bn2): BatchNorm2d(128, eps=1e-05, momentum=0.1, affine=True)\n",
       "      (downsample): Sequential (\n",
       "        (0): Conv2d(64, 128, kernel_size=(1, 1), stride=(2, 2), bias=False)\n",
       "        (1): BatchNorm2d(128, eps=1e-05, momentum=0.1, affine=True)\n",
       "      )\n",
       "    )\n",
       "    (1): BasicBlock (\n",
       "      (conv1): Conv2d(128, 128, kernel_size=(3, 3), stride=(1, 1), padding=(1, 1), bias=False)\n",
       "      (bn1): BatchNorm2d(128, eps=1e-05, momentum=0.1, affine=True)\n",
       "      (relu): ReLU (inplace)\n",
       "      (conv2): Conv2d(128, 128, kernel_size=(3, 3), stride=(1, 1), padding=(1, 1), bias=False)\n",
       "      (bn2): BatchNorm2d(128, eps=1e-05, momentum=0.1, affine=True)\n",
       "    )\n",
       "  )\n",
       "  (6): Sequential (\n",
       "    (0): BasicBlock (\n",
       "      (conv1): Conv2d(128, 256, kernel_size=(3, 3), stride=(2, 2), padding=(1, 1), bias=False)\n",
       "      (bn1): BatchNorm2d(256, eps=1e-05, momentum=0.1, affine=True)\n",
       "      (relu): ReLU (inplace)\n",
       "      (conv2): Conv2d(256, 256, kernel_size=(3, 3), stride=(1, 1), padding=(1, 1), bias=False)\n",
       "      (bn2): BatchNorm2d(256, eps=1e-05, momentum=0.1, affine=True)\n",
       "      (downsample): Sequential (\n",
       "        (0): Conv2d(128, 256, kernel_size=(1, 1), stride=(2, 2), bias=False)\n",
       "        (1): BatchNorm2d(256, eps=1e-05, momentum=0.1, affine=True)\n",
       "      )\n",
       "    )\n",
       "    (1): BasicBlock (\n",
       "      (conv1): Conv2d(256, 256, kernel_size=(3, 3), stride=(1, 1), padding=(1, 1), bias=False)\n",
       "      (bn1): BatchNorm2d(256, eps=1e-05, momentum=0.1, affine=True)\n",
       "      (relu): ReLU (inplace)\n",
       "      (conv2): Conv2d(256, 256, kernel_size=(3, 3), stride=(1, 1), padding=(1, 1), bias=False)\n",
       "      (bn2): BatchNorm2d(256, eps=1e-05, momentum=0.1, affine=True)\n",
       "    )\n",
       "  )\n",
       "  (7): Sequential (\n",
       "    (0): BasicBlock (\n",
       "      (conv1): Conv2d(256, 512, kernel_size=(3, 3), stride=(2, 2), padding=(1, 1), bias=False)\n",
       "      (bn1): BatchNorm2d(512, eps=1e-05, momentum=0.1, affine=True)\n",
       "      (relu): ReLU (inplace)\n",
       "      (conv2): Conv2d(512, 512, kernel_size=(3, 3), stride=(1, 1), padding=(1, 1), bias=False)\n",
       "      (bn2): BatchNorm2d(512, eps=1e-05, momentum=0.1, affine=True)\n",
       "      (downsample): Sequential (\n",
       "        (0): Conv2d(256, 512, kernel_size=(1, 1), stride=(2, 2), bias=False)\n",
       "        (1): BatchNorm2d(512, eps=1e-05, momentum=0.1, affine=True)\n",
       "      )\n",
       "    )\n",
       "    (1): BasicBlock (\n",
       "      (conv1): Conv2d(512, 512, kernel_size=(3, 3), stride=(1, 1), padding=(1, 1), bias=False)\n",
       "      (bn1): BatchNorm2d(512, eps=1e-05, momentum=0.1, affine=True)\n",
       "      (relu): ReLU (inplace)\n",
       "      (conv2): Conv2d(512, 512, kernel_size=(3, 3), stride=(1, 1), padding=(1, 1), bias=False)\n",
       "      (bn2): BatchNorm2d(512, eps=1e-05, momentum=0.1, affine=True)\n",
       "    )\n",
       "  )\n",
       "  (8): AvgPool2d (\n",
       "  )\n",
       ")"
      ]
     },
     "execution_count": 9,
     "metadata": {},
     "output_type": "execute_result"
    }
   ],
   "source": [
    "pretrained_conv"
   ]
  },
  {
   "cell_type": "code",
   "execution_count": 10,
   "metadata": {
    "collapsed": false
   },
   "outputs": [
    {
     "data": {
      "text/plain": [
       "Linear (512 -> 1000)"
      ]
     },
     "execution_count": 10,
     "metadata": {},
     "output_type": "execute_result"
    }
   ],
   "source": [
    "pretrained_fc"
   ]
  },
  {
   "cell_type": "code",
   "execution_count": 11,
   "metadata": {
    "collapsed": true
   },
   "outputs": [],
   "source": [
    "!rm weights/alexnet-test/*"
   ]
  },
  {
   "cell_type": "code",
   "execution_count": 12,
   "metadata": {
    "collapsed": false,
    "deletable": true,
    "editable": true
   },
   "outputs": [
    {
     "name": "stdout",
     "output_type": "stream",
     "text": [
      "Processing Attribute: gender_GT\n",
      "Start Training for: gender_GT\n",
      "LR is set to 0.01\n",
      "train Epoch 0/19 Loss: 0.0262 Acc: 0.4725\n",
      "valid Epoch 0/19 Loss: 0.0271 Acc: 0.4552\n",
      "train Epoch 5/19 Loss: 0.0151 Acc: 0.8336\n",
      "valid Epoch 5/19 Loss: 0.0161 Acc: 0.8246\n",
      "LR is set to 0.001\n",
      "train Epoch 10/19 Loss: 0.0148 Acc: 0.8484\n",
      "valid Epoch 10/19 Loss: 0.0163 Acc: 0.8246\n",
      "LR is set to 0.00010000000000000002\n",
      "train Epoch 15/19 Loss: 0.0153 Acc: 0.8336\n",
      "valid Epoch 15/19 Loss: 0.0158 Acc: 0.8321\n",
      "Training completed in 1.000000m 40.038947s\n",
      "Best val Acc: 0.854478\n"
     ]
    }
   ],
   "source": [
    "attribute_models = create_attributes_fc_model(pretrained_fc, pretrained_conv, fc_dim, \n",
    "                                gender_dims, \"weights/alexnet-test\",\n",
    "                                labels_file, \n",
    "                                TRAIN_IMAGES_FOLDER, \n",
    "                                VALID_IMAGES_FOLDER, \n",
    "                                num_epochs=20, \n",
    "                                use_gpu=use_gpu,\n",
    "                                is_train=True)"
   ]
  },
  {
   "cell_type": "code",
   "execution_count": 20,
   "metadata": {
    "collapsed": false
   },
   "outputs": [
    {
     "data": {
      "text/plain": [
       "{'category_GT': AttributeModel (\n",
       "   (model): Sequential (\n",
       "     (0): Dropout (p = 0.5)\n",
       "     (1): Linear (9216 -> 4096)\n",
       "     (2): ReLU (inplace)\n",
       "     (3): Dropout (p = 0.5)\n",
       "     (4): Linear (4096 -> 4096)\n",
       "     (5): ReLU (inplace)\n",
       "     (6): Linear (4096 -> 7)\n",
       "   )\n",
       " ), 'collar_GT': AttributeModel (\n",
       "   (model): Sequential (\n",
       "     (0): Dropout (p = 0.5)\n",
       "     (1): Linear (9216 -> 4096)\n",
       "     (2): ReLU (inplace)\n",
       "     (3): Dropout (p = 0.5)\n",
       "     (4): Linear (4096 -> 4096)\n",
       "     (5): ReLU (inplace)\n",
       "     (6): Linear (4096 -> 2)\n",
       "   )\n",
       " ), 'gender_GT': AttributeModel (\n",
       "   (model): Sequential (\n",
       "     (0): Dropout (p = 0.5)\n",
       "     (1): Linear (9216 -> 4096)\n",
       "     (2): ReLU (inplace)\n",
       "     (3): Dropout (p = 0.5)\n",
       "     (4): Linear (4096 -> 4096)\n",
       "     (5): ReLU (inplace)\n",
       "     (6): Linear (4096 -> 2)\n",
       "   )\n",
       " ), 'neckline_GT': AttributeModel (\n",
       "   (model): Sequential (\n",
       "     (0): Dropout (p = 0.5)\n",
       "     (1): Linear (9216 -> 4096)\n",
       "     (2): ReLU (inplace)\n",
       "     (3): Dropout (p = 0.5)\n",
       "     (4): Linear (4096 -> 4096)\n",
       "     (5): ReLU (inplace)\n",
       "     (6): Linear (4096 -> 3)\n",
       "   )\n",
       " ), 'necktie_GT': AttributeModel (\n",
       "   (model): Sequential (\n",
       "     (0): Dropout (p = 0.5)\n",
       "     (1): Linear (9216 -> 4096)\n",
       "     (2): ReLU (inplace)\n",
       "     (3): Dropout (p = 0.5)\n",
       "     (4): Linear (4096 -> 4096)\n",
       "     (5): ReLU (inplace)\n",
       "     (6): Linear (4096 -> 2)\n",
       "   )\n",
       " ), 'pattern_GT': AttributeModel (\n",
       "   (model): Sequential (\n",
       "     (0): Dropout (p = 0.5)\n",
       "     (1): Linear (9216 -> 4096)\n",
       "     (2): ReLU (inplace)\n",
       "     (3): Dropout (p = 0.5)\n",
       "     (4): Linear (4096 -> 4096)\n",
       "     (5): ReLU (inplace)\n",
       "     (6): Linear (4096 -> 6)\n",
       "   )\n",
       " ), 'placket_GT': AttributeModel (\n",
       "   (model): Sequential (\n",
       "     (0): Dropout (p = 0.5)\n",
       "     (1): Linear (9216 -> 4096)\n",
       "     (2): ReLU (inplace)\n",
       "     (3): Dropout (p = 0.5)\n",
       "     (4): Linear (4096 -> 4096)\n",
       "     (5): ReLU (inplace)\n",
       "     (6): Linear (4096 -> 2)\n",
       "   )\n",
       " ), 'scarf_GT': AttributeModel (\n",
       "   (model): Sequential (\n",
       "     (0): Dropout (p = 0.5)\n",
       "     (1): Linear (9216 -> 4096)\n",
       "     (2): ReLU (inplace)\n",
       "     (3): Dropout (p = 0.5)\n",
       "     (4): Linear (4096 -> 4096)\n",
       "     (5): ReLU (inplace)\n",
       "     (6): Linear (4096 -> 2)\n",
       "   )\n",
       " ), 'skin_exposure_GT': AttributeModel (\n",
       "   (model): Sequential (\n",
       "     (0): Dropout (p = 0.5)\n",
       "     (1): Linear (9216 -> 4096)\n",
       "     (2): ReLU (inplace)\n",
       "     (3): Dropout (p = 0.5)\n",
       "     (4): Linear (4096 -> 4096)\n",
       "     (5): ReLU (inplace)\n",
       "     (6): Linear (4096 -> 2)\n",
       "   )\n",
       " ), 'sleevelength_GT': AttributeModel (\n",
       "   (model): Sequential (\n",
       "     (0): Dropout (p = 0.5)\n",
       "     (1): Linear (9216 -> 4096)\n",
       "     (2): ReLU (inplace)\n",
       "     (3): Dropout (p = 0.5)\n",
       "     (4): Linear (4096 -> 4096)\n",
       "     (5): ReLU (inplace)\n",
       "     (6): Linear (4096 -> 3)\n",
       "   )\n",
       " )}"
      ]
     },
     "execution_count": 20,
     "metadata": {},
     "output_type": "execute_result"
    }
   ],
   "source": [
    "attribute_models"
   ]
  },
  {
   "cell_type": "markdown",
   "metadata": {},
   "source": [
    "## Fully FCN Model"
   ]
  },
  {
   "cell_type": "code",
   "execution_count": 8,
   "metadata": {
    "collapsed": false
   },
   "outputs": [],
   "source": [
    "pretrained_conv_model, _, _ = get_pretrained_model(\"vgg16\", pop_last_pool_layer=True, use_gpu=use_gpu)"
   ]
  },
  {
   "cell_type": "code",
   "execution_count": 9,
   "metadata": {
    "collapsed": true
   },
   "outputs": [],
   "source": [
    "from classifiers import AttributeFCN, create_attributes_model"
   ]
  },
  {
   "cell_type": "code",
   "execution_count": 9,
   "metadata": {
    "collapsed": false
   },
   "outputs": [
    {
     "data": {
      "text/plain": [
       "{'gender_GT': 2, 'neckline_GT': 3, 'pattern_GT': 6}"
      ]
     },
     "execution_count": 9,
     "metadata": {},
     "output_type": "execute_result"
    }
   ],
   "source": [
    "dict(list(target_dims.items())[:3])"
   ]
  },
  {
   "cell_type": "code",
   "execution_count": 10,
   "metadata": {
    "collapsed": false
   },
   "outputs": [
    {
     "name": "stdout",
     "output_type": "stream",
     "text": [
      "category_GT.pth  neckline_GT.pth  placket_GT.pth\tsleevelength_GT.pth\r\n",
      "collar_GT.pth\t necktie_GT.pth   scarf_GT.pth\r\n",
      "gender_GT.pth\t pattern_GT.pth   skin_exposure_GT.pth\r\n"
     ]
    }
   ],
   "source": [
    "!ls weights/vgg16-fcn-3/"
   ]
  },
  {
   "cell_type": "code",
   "execution_count": 11,
   "metadata": {
    "collapsed": false
   },
   "outputs": [
    {
     "name": "stdout",
     "output_type": "stream",
     "text": [
      "Processing Attribute: category_GT\n",
      "Start Training for: category_GT\n",
      "LR is set to 0.01\n",
      "train Epoch 0/0 Loss: 0.0210 Acc: 0.7903\n",
      "valid Epoch 0/0 Loss: 0.0226 Acc: 0.7403\n",
      "Training completed in 0.000000m 13.875891s\n",
      "Best val Acc: 0.740260\n",
      "Processing Attribute: neckline_GT\n",
      "Start Training for: neckline_GT\n",
      "LR is set to 0.01\n",
      "train Epoch 0/0 Loss: 0.0177 Acc: 0.7838\n",
      "valid Epoch 0/0 Loss: 0.0235 Acc: 0.7306\n",
      "Training completed in 0.000000m 15.785765s\n",
      "Best val Acc: 0.730570\n",
      "Processing Attribute: necktie_GT\n",
      "Start Training for: necktie_GT\n",
      "LR is set to 0.01\n",
      "train Epoch 0/0 Loss: 0.0064 Acc: 0.9215\n",
      "valid Epoch 0/0 Loss: 0.0052 Acc: 0.9468\n",
      "Training completed in 0.000000m 20.485661s\n",
      "Best val Acc: 0.946768\n",
      "Processing Attribute: scarf_GT\n",
      "Start Training for: scarf_GT\n",
      "LR is set to 0.01\n",
      "train Epoch 0/0 Loss: 0.0047 Acc: 0.9499\n",
      "valid Epoch 0/0 Loss: 0.0164 Acc: 0.9070\n",
      "Training completed in 0.000000m 19.654756s\n",
      "Best val Acc: 0.906977\n",
      "Processing Attribute: sleevelength_GT\n",
      "Start Training for: sleevelength_GT\n",
      "LR is set to 0.01\n",
      "train Epoch 0/0 Loss: 0.0069 Acc: 0.9317\n",
      "valid Epoch 0/0 Loss: 0.0068 Acc: 0.9288\n",
      "Training completed in 0.000000m 21.053442s\n",
      "Best val Acc: 0.928839\n",
      "Processing Attribute: gender_GT\n",
      "Start Training for: gender_GT\n",
      "LR is set to 0.01\n",
      "train Epoch 0/0 Loss: 0.0081 Acc: 0.9130\n",
      "valid Epoch 0/0 Loss: 0.0070 Acc: 0.9254\n",
      "Training completed in 0.000000m 21.301171s\n",
      "Best val Acc: 0.925373\n",
      "Processing Attribute: pattern_GT\n",
      "Start Training for: pattern_GT\n",
      "LR is set to 0.01\n",
      "train Epoch 0/0 Loss: 0.0254 Acc: 0.7358\n",
      "valid Epoch 0/0 Loss: 0.0263 Acc: 0.7365\n",
      "Training completed in 0.000000m 22.033421s\n",
      "Best val Acc: 0.736462\n",
      "Processing Attribute: collar_GT\n",
      "Start Training for: collar_GT\n",
      "LR is set to 0.01\n",
      "train Epoch 0/0 Loss: 0.0107 Acc: 0.8624\n",
      "valid Epoch 0/0 Loss: 0.0105 Acc: 0.8716\n",
      "Training completed in 0.000000m 17.730848s\n",
      "Best val Acc: 0.871560\n",
      "Processing Attribute: placket_GT\n",
      "Start Training for: placket_GT\n",
      "LR is set to 0.01\n",
      "train Epoch 0/0 Loss: 0.0101 Acc: 0.8640\n",
      "valid Epoch 0/0 Loss: 0.0117 Acc: 0.8413\n",
      "Training completed in 0.000000m 21.304983s\n",
      "Best val Acc: 0.841328\n",
      "Processing Attribute: skin_exposure_GT\n",
      "Start Training for: skin_exposure_GT\n",
      "LR is set to 0.01\n",
      "train Epoch 0/0 Loss: 0.0038 Acc: 0.9554\n",
      "valid Epoch 0/0 Loss: 0.0058 Acc: 0.9383\n",
      "Training completed in 0.000000m 20.285252s\n",
      "Best val Acc: 0.938272\n"
     ]
    }
   ],
   "source": [
    "attribute_models = create_attributes_model(AttributeFCN, 512, pretrained_conv_model,\n",
    "                                target_dims, \n",
    "#                                 dict(list(target_dims.items())[:3]),\n",
    "                                \"weights/vgg16-fcn-266-2/\",\n",
    "                                labels_file, \n",
    "                                 TRAIN_IMAGES_FOLDER, \n",
    "                                 VALID_IMAGES_FOLDER, \n",
    "                                 num_epochs=1, \n",
    "                                 is_train=True,\n",
    "                                 use_gpu=use_gpu)"
   ]
  },
  {
   "cell_type": "code",
   "execution_count": 11,
   "metadata": {
    "collapsed": false
   },
   "outputs": [
    {
     "name": "stdout",
     "output_type": "stream",
     "text": [
      "Processing Attribute: scarf_GT\n",
      "Start Training for: scarf_GT\n",
      "LR is set to 0.01\n",
      "train Epoch 0/4 Loss: 0.0195 Acc: 0.8114\n",
      "valid Epoch 0/4 Loss: 0.0171 Acc: 0.8347\n",
      "Training completed in 1.000000m 39.057248s\n",
      "Best val Acc: 0.875000\n",
      "Processing Attribute: category_GT\n",
      "Start Training for: category_GT\n",
      "LR is set to 0.01\n",
      "train Epoch 0/4 Loss: 0.0623 Acc: 0.3644\n",
      "valid Epoch 0/4 Loss: 0.0604 Acc: 0.4304\n",
      "Training completed in 1.000000m 8.012913s\n",
      "Best val Acc: 0.575949\n",
      "Processing Attribute: necktie_GT\n",
      "Start Training for: necktie_GT\n",
      "LR is set to 0.01\n",
      "train Epoch 0/4 Loss: 0.0181 Acc: 0.8775\n",
      "valid Epoch 0/4 Loss: 0.0164 Acc: 0.9046\n",
      "Training completed in 1.000000m 44.066475s\n",
      "Best val Acc: 0.950382\n",
      "Processing Attribute: neckline_GT\n",
      "Start Training for: neckline_GT\n",
      "LR is set to 0.01\n",
      "train Epoch 0/4 Loss: 0.0342 Acc: 0.4840\n",
      "valid Epoch 0/4 Loss: 0.0317 Acc: 0.6158\n",
      "Training completed in 1.000000m 20.402497s\n",
      "Best val Acc: 0.631579\n",
      "Processing Attribute: skin_exposure_GT\n",
      "Start Training for: skin_exposure_GT\n",
      "LR is set to 0.01\n",
      "train Epoch 0/4 Loss: 0.0183 Acc: 0.8485\n",
      "valid Epoch 0/4 Loss: 0.0147 Acc: 0.9402\n",
      "Training completed in 1.000000m 41.242872s\n",
      "Best val Acc: 0.940239\n",
      "Processing Attribute: sleevelength_GT\n",
      "Start Training for: sleevelength_GT\n",
      "LR is set to 0.01\n",
      "train Epoch 0/4 Loss: 0.0315 Acc: 0.6804\n",
      "valid Epoch 0/4 Loss: 0.0293 Acc: 0.7407\n",
      "Training completed in 1.000000m 46.758268s\n",
      "Best val Acc: 0.855556\n",
      "Processing Attribute: pattern_GT\n",
      "Start Training for: pattern_GT\n",
      "LR is set to 0.01\n",
      "train Epoch 0/4 Loss: 0.0550 Acc: 0.5176\n",
      "valid Epoch 0/4 Loss: 0.0526 Acc: 0.5884\n",
      "Training completed in 1.000000m 50.705903s\n",
      "Best val Acc: 0.660650\n",
      "Processing Attribute: placket_GT\n",
      "Start Training for: placket_GT\n",
      "LR is set to 0.01\n",
      "train Epoch 0/4 Loss: 0.0183 Acc: 0.7375\n",
      "valid Epoch 0/4 Loss: 0.0166 Acc: 0.8358\n",
      "Training completed in 1.000000m 46.652117s\n",
      "Best val Acc: 0.843284\n",
      "Processing Attribute: gender_GT\n",
      "Start Training for: gender_GT\n",
      "LR is set to 0.01\n",
      "train Epoch 0/4 Loss: 0.0188 Acc: 0.7535\n",
      "valid Epoch 0/4 Loss: 0.0171 Acc: 0.8377\n",
      "Training completed in 1.000000m 47.357533s\n",
      "Best val Acc: 0.905660\n",
      "Processing Attribute: collar_GT\n",
      "Start Training for: collar_GT\n",
      "LR is set to 0.01\n",
      "train Epoch 0/4 Loss: 0.0198 Acc: 0.6718\n",
      "valid Epoch 0/4 Loss: 0.0170 Acc: 0.8286\n",
      "Training completed in 1.000000m 28.205028s\n",
      "Best val Acc: 0.890476\n"
     ]
    }
   ],
   "source": [
    "attribute_models = create_attributes_model(AttributeFCN, 512, pretrained_conv_model,\n",
    "                                target_dims, \n",
    "#                                 dict(list(target_dims.items())[:3]),\n",
    "                                \"weights/vgg16-fcn-test/\",\n",
    "                                labels_file, \n",
    "                                 TRAIN_IMAGES_FOLDER, \n",
    "                                 VALID_IMAGES_FOLDER, \n",
    "                                 num_epochs=5, \n",
    "                                 is_train=True,\n",
    "                                 use_gpu=use_gpu)"
   ]
  },
  {
   "cell_type": "code",
   "execution_count": null,
   "metadata": {
    "collapsed": true
   },
   "outputs": [],
   "source": [
    "# attribute_models = create_attributes_model(pretrained_fc, pretrained_conv_model, fc_dim, target_dims, \"weights-fcn/\",\n",
    "#                                 labels_file, \n",
    "#                                  TRAIN_IMAGES_FOLDER, \n",
    "#                                  VALID_IMAGES_FOLDER, \n",
    "#                                  num_epochs=1, is_train=True)"
   ]
  },
  {
   "cell_type": "markdown",
   "metadata": {
    "deletable": true,
    "editable": true
   },
   "source": [
    "## Evaluate the Model"
   ]
  },
  {
   "cell_type": "code",
   "execution_count": 8,
   "metadata": {
    "collapsed": false,
    "deletable": true,
    "editable": true
   },
   "outputs": [],
   "source": [
    "import numpy as np\n",
    "from scipy.misc import imread, imsave, imresize\n",
    "from matplotlib import pyplot as plt\n",
    "\n",
    "%matplotlib inline"
   ]
  },
  {
   "cell_type": "code",
   "execution_count": 9,
   "metadata": {
    "collapsed": false,
    "deletable": true,
    "editable": true
   },
   "outputs": [],
   "source": [
    "import torch\n",
    "\n",
    "from preprocessing import image_loader, load_label_values\n",
    "from classifiers import predict_attributes, get_pretrained_model\n",
    "from classifiers import AttributeFCN, create_attributes_model"
   ]
  },
  {
   "cell_type": "code",
   "execution_count": 10,
   "metadata": {
    "collapsed": false,
    "deletable": true,
    "editable": true
   },
   "outputs": [
    {
     "data": {
      "text/plain": [
       "<matplotlib.image.AxesImage at 0x7f5c0fbb9c18>"
      ]
     },
     "execution_count": 10,
     "metadata": {},
     "output_type": "execute_result"
    },
    {
     "data": {
      "image/png": "[encoded data removed]",
      "text/plain": [
       "<matplotlib.figure.Figure at 0x7f5c122dcf60>"
      ]
     },
     "metadata": {},
     "output_type": "display_data"
    }
   ],
   "source": [
    "img = imread(\"data/ClothingAttributeDataset/test/000009.jpg\")\n",
    "plt.imshow(img)"
   ]
  },
  {
   "cell_type": "code",
   "execution_count": 10,
   "metadata": {
    "collapsed": false,
    "deletable": true,
    "editable": true
   },
   "outputs": [],
   "source": [
    "pretrained_conv_model, _, _ = get_pretrained_model(\"vgg16\", pop_last_pool_layer=True, use_gpu=use_gpu)"
   ]
  },
  {
   "cell_type": "code",
   "execution_count": 11,
   "metadata": {
    "collapsed": false
   },
   "outputs": [],
   "source": [
    "target_dims = get_attribute_dims(label_values_file)"
   ]
  },
  {
   "cell_type": "code",
   "execution_count": 12,
   "metadata": {
    "collapsed": false
   },
   "outputs": [
    {
     "name": "stdout",
     "output_type": "stream",
     "text": [
      "Processing Attribute: neckline_GT\n",
      "Processing Attribute: collar_GT\n",
      "Processing Attribute: skin_exposure_GT\n",
      "Processing Attribute: placket_GT\n",
      "Processing Attribute: pattern_GT\n",
      "Processing Attribute: gender_GT\n",
      "Processing Attribute: necktie_GT\n",
      "Processing Attribute: category_GT\n",
      "Processing Attribute: scarf_GT\n",
      "Processing Attribute: sleevelength_GT\n"
     ]
    }
   ],
   "source": [
    "attribute_models = create_attributes_model(AttributeFCN, 512, pretrained_conv_model,\n",
    "                                target_dims, \n",
    "                                # dict(list(target_dims.items())[:3]),\n",
    "                                \"weights/vgg16-fcn-266-2/\",\n",
    "                                labels_file, \n",
    "                                TRAIN_IMAGES_FOLDER, \n",
    "                                VALID_IMAGES_FOLDER, \n",
    "                                num_epochs=1, \n",
    "                                is_train=False,\n",
    "                                use_gpu=use_gpu)"
   ]
  },
  {
   "cell_type": "code",
   "execution_count": 13,
   "metadata": {
    "collapsed": true
   },
   "outputs": [],
   "source": [
    "# use_gpu = torch.cuda.is_available()\n",
    "\n",
    "# def \n",
    "# if use_gpu:\n",
    "#     pretrained_conv_model = pretrained_conv_model.cuda()\n",
    "#     for model in attribute_models.values():\n",
    "#         model.cuda()"
   ]
  },
  {
   "cell_type": "code",
   "execution_count": 14,
   "metadata": {
    "collapsed": false,
    "deletable": true,
    "editable": true
   },
   "outputs": [],
   "source": [
    "label_values = load_label_values(label_values_file)"
   ]
  },
  {
   "cell_type": "code",
   "execution_count": 15,
   "metadata": {
    "collapsed": true
   },
   "outputs": [],
   "source": [
    "image_url = 'data/ClothingAttributeDataset/sample/000187.jpg'"
   ]
  },
  {
   "cell_type": "code",
   "execution_count": 16,
   "metadata": {
    "collapsed": false
   },
   "outputs": [],
   "source": [
    "image_features = image_loader(image_url, use_gpu=True)"
   ]
  },
  {
   "cell_type": "code",
   "execution_count": 17,
   "metadata": {
    "collapsed": false
   },
   "outputs": [
    {
     "data": {
      "text/plain": [
       "torch.Size([1, 3, 400, 266])"
      ]
     },
     "execution_count": 17,
     "metadata": {},
     "output_type": "execute_result"
    }
   ],
   "source": [
    "image_features.size()"
   ]
  },
  {
   "cell_type": "code",
   "execution_count": 18,
   "metadata": {
    "collapsed": false
   },
   "outputs": [],
   "source": [
    "pretrained_features = pretrained_conv_model(image_features)"
   ]
  },
  {
   "cell_type": "code",
   "execution_count": 19,
   "metadata": {
    "collapsed": false
   },
   "outputs": [
    {
     "data": {
      "text/plain": [
       "torch.Size([1, 512, 25, 16])"
      ]
     },
     "execution_count": 19,
     "metadata": {},
     "output_type": "execute_result"
    }
   ],
   "source": [
    "pretrained_features.size()"
   ]
  },
  {
   "cell_type": "code",
   "execution_count": 19,
   "metadata": {
    "collapsed": false
   },
   "outputs": [],
   "source": [
    "# Dense Layer FC\n",
    "\n",
    "# results = predict_attributes(image_url, alexnet_conv, attribute_models, \n",
    "#                             attribute_idx_map=label_values[\"idx_to_names\"],\n",
    "#                             flatten_pretrained_out=True, \n",
    "#                             use_gpu=use_gpu)"
   ]
  },
  {
   "cell_type": "code",
   "execution_count": 20,
   "metadata": {
    "collapsed": false
   },
   "outputs": [
    {
     "data": {
      "text/plain": [
       "'data/ClothingAttributeDataset/sample/000175.jpg'"
      ]
     },
     "execution_count": 20,
     "metadata": {},
     "output_type": "execute_result"
    }
   ],
   "source": [
    "image_url"
   ]
  },
  {
   "cell_type": "code",
   "execution_count": null,
   "metadata": {
    "collapsed": true
   },
   "outputs": [],
   "source": [
    "        path, target = self.imgs[index]\n",
    "        img = self.loader(path)\n",
    "        if self.transform is not None:\n",
    "            img = self.transform(img)\n",
    "        if self.target_transform is not None:\n",
    "            target = self.target_transform(target)"
   ]
  },
  {
   "cell_type": "code",
   "execution_count": 13,
   "metadata": {
    "collapsed": true
   },
   "outputs": [],
   "source": [
    "from preprocessing import default_loader, image_loader, get_transforms, make_dsets\n",
    "from classifiers import predict_model\n",
    "from torch.autograd import Variable"
   ]
  },
  {
   "cell_type": "code",
   "execution_count": 43,
   "metadata": {
    "collapsed": false
   },
   "outputs": [
    {
     "data": {
      "text/plain": [
       "torch.Size([3, 400, 266])"
      ]
     },
     "execution_count": 43,
     "metadata": {},
     "output_type": "execute_result"
    }
   ],
   "source": [
    "image_features[0]"
   ]
  },
  {
   "cell_type": "code",
   "execution_count": 15,
   "metadata": {
    "collapsed": false
   },
   "outputs": [],
   "source": [
    "data_loaders = make_dsets('data/ClothingAttributeDataset/sample', labels_file, \"neckline_GT\", batch_size=32, num_workers=4, \n",
    "               is_train=False, shuffle=False)"
   ]
  },
  {
   "cell_type": "code",
   "execution_count": 16,
   "metadata": {
    "collapsed": false
   },
   "outputs": [],
   "source": [
    "import torch.utils.data as data\n",
    "\n",
    "class AttributePredictDataset(data.Dataset):\n",
    "    \n",
    "    def __init__(self, image_url, transform=None, target_transform=None, loader=default_loader):\n",
    "\n",
    "        super().__init__()\n",
    "        \n",
    "        self.image_url = image_url\n",
    "        self.transform = transform\n",
    "        self.target_transform = target_transform\n",
    "        self.loader = loader\n",
    "        \n",
    "    def __getitem__(self, index):\n",
    "        img = self.loader(self.image_url)\n",
    "        target = 0\n",
    "        if self.transform is not None:\n",
    "            img = self.transform(img)\n",
    "        if self.target_transform is not None:\n",
    "            target = self.target_transform(target)\n",
    "\n",
    "        return self.image_url, img, target\n",
    "\n",
    "    def __len__(self):\n",
    "        return 1"
   ]
  },
  {
   "cell_type": "code",
   "execution_count": 29,
   "metadata": {
    "collapsed": false
   },
   "outputs": [],
   "source": [
    "image_url = 'data/ClothingAttributeDataset/sample/000175.jpg'"
   ]
  },
  {
   "cell_type": "code",
   "execution_count": 19,
   "metadata": {
    "collapsed": false
   },
   "outputs": [
    {
     "data": {
      "text/plain": [
       "torch.Size([1, 3, 400, 266])"
      ]
     },
     "execution_count": 19,
     "metadata": {},
     "output_type": "execute_result"
    }
   ],
   "source": [
    "image_loader(image_url).size()"
   ]
  },
  {
   "cell_type": "code",
   "execution_count": 30,
   "metadata": {
    "collapsed": false
   },
   "outputs": [
    {
     "name": "stdout",
     "output_type": "stream",
     "text": [
      "torch.Size([1, 3, 400, 266])\n",
      "Predicting skin_exposure_GT\n",
      "Predicting sleevelength_GT\n",
      "Predicting collar_GT\n",
      "Predicting necktie_GT\n",
      "Predicting placket_GT\n",
      "Predicting pattern_GT\n",
      "Predicting scarf_GT\n",
      "Predicting category_GT\n",
      "Predicting neckline_GT\n",
      "Predicting gender_GT\n"
     ]
    },
    {
     "data": {
      "text/plain": [
       "{'category_GT': (6, 0.17717944),\n",
       " 'collar_GT': (1, 0.68600774),\n",
       " 'gender_GT': (1, 0.68685842),\n",
       " 'neckline_GT': (0, 0.50104755),\n",
       " 'necktie_GT': (0, 0.92583376),\n",
       " 'pattern_GT': (4, 0.57684553),\n",
       " 'placket_GT': (1, 0.72161978),\n",
       " 'scarf_GT': (0, 0.97431809),\n",
       " 'skin_exposure_GT': (0, 0.98118109),\n",
       " 'sleevelength_GT': (2, 0.92928863)}"
      ]
     },
     "execution_count": 30,
     "metadata": {},
     "output_type": "execute_result"
    }
   ],
   "source": [
    "predict_attributes(image_url, pretrained_conv_model, attribute_models, flatten_pretrained_out=False)"
   ]
  },
  {
   "cell_type": "code",
   "execution_count": 31,
   "metadata": {
    "collapsed": false
   },
   "outputs": [
    {
     "name": "stdout",
     "output_type": "stream",
     "text": [
      "(\n",
      "-0.6911\n",
      "[torch.cuda.FloatTensor of size 1x1 (GPU 0)]\n",
      ", \n",
      " 0\n",
      "[torch.cuda.LongTensor of size 1x1 (GPU 0)]\n",
      ")\n",
      "0.501048 \n",
      " 0\n",
      "[torch.cuda.LongTensor of size 1x1 (GPU 0)]\n",
      "\n"
     ]
    }
   ],
   "source": [
    "image_features = image_loader(image_url)\n",
    "pretrained_features = predict_model(pretrained_conv_model, image_features, flatten=False)\n",
    "outputs = predict_model(attribute_models[\"neckline_GT\"], pretrained_features)\n",
    "pred_prob, pred_class = outputs.data.max(1)  \n",
    "print(outputs.data.max(1))\n",
    "print(np.exp(pred_prob.cpu().numpy().flatten()[0]), pred_class)"
   ]
  },
  {
   "cell_type": "code",
   "execution_count": 32,
   "metadata": {
    "collapsed": false
   },
   "outputs": [
    {
     "name": "stdout",
     "output_type": "stream",
     "text": [
      "(\n",
      "-0.6911\n",
      "[torch.cuda.FloatTensor of size 1x1 (GPU 0)]\n",
      ", \n",
      " 0\n",
      "[torch.cuda.LongTensor of size 1x1 (GPU 0)]\n",
      ")\n",
      "\n",
      "-0.6911\n",
      "[torch.cuda.FloatTensor of size 1x1 (GPU 0)]\n",
      " 0.501048\n"
     ]
    }
   ],
   "source": [
    "\n",
    "image_dset = AttributePredictDataset(image_url, transform=get_transforms(is_train=True))\n",
    "\n",
    "dset_loader = data.DataLoader(image_dset, batch_size=32,\n",
    "                                shuffle=False)\n",
    "\n",
    "for batch_files, inputs, labels in dset_loader:\n",
    "#     print(batch_files, labels)\n",
    "    inputs = Variable(inputs.cuda())\n",
    "    pretrained_features2 = pretrained_conv_model(inputs)\n",
    "    outputs = attribute_models[\"neckline_GT\"](pretrained_features2)\n",
    "    preds_proba, preds = outputs.data.max(1)\n",
    "    print(outputs.data.max(1))\n",
    "    print(preds_proba, np.exp(preds_proba.cpu().numpy().flatten()[0]))"
   ]
  },
  {
   "cell_type": "code",
   "execution_count": null,
   "metadata": {
    "collapsed": true
   },
   "outputs": [],
   "source": []
  },
  {
   "cell_type": "code",
   "execution_count": 35,
   "metadata": {
    "collapsed": false
   },
   "outputs": [],
   "source": [
    "images, image_features, labels = next(iter(data_loaders))\n",
    "image_features = Variable(image_features.cuda())"
   ]
  },
  {
   "cell_type": "code",
   "execution_count": 25,
   "metadata": {
    "collapsed": false
   },
   "outputs": [],
   "source": [
    "# image_features = (get_transforms()(image)).unsqueeze(0).cuda()"
   ]
  },
  {
   "cell_type": "code",
   "execution_count": 36,
   "metadata": {
    "collapsed": false
   },
   "outputs": [],
   "source": [
    "pretrained_features = pretrained_conv_model(image_features)"
   ]
  },
  {
   "cell_type": "code",
   "execution_count": 37,
   "metadata": {
    "collapsed": false
   },
   "outputs": [],
   "source": [
    "outputs = attribute_models[\"neckline_GT\"](pretrained_features)"
   ]
  },
  {
   "cell_type": "code",
   "execution_count": 38,
   "metadata": {
    "collapsed": false
   },
   "outputs": [
    {
     "data": {
      "text/plain": [
       "torch.Size([3, 3, 400, 266])"
      ]
     },
     "execution_count": 38,
     "metadata": {},
     "output_type": "execute_result"
    }
   ],
   "source": [
    "image_features.size()"
   ]
  },
  {
   "cell_type": "code",
   "execution_count": 39,
   "metadata": {
    "collapsed": false
   },
   "outputs": [
    {
     "data": {
      "text/plain": [
       "('data/ClothingAttributeDataset/sample/000187.jpg',\n",
       " 'data/ClothingAttributeDataset/sample/000199.jpg',\n",
       " 'data/ClothingAttributeDataset/sample/000175.jpg')"
      ]
     },
     "execution_count": 39,
     "metadata": {},
     "output_type": "execute_result"
    }
   ],
   "source": [
    "images"
   ]
  },
  {
   "cell_type": "code",
   "execution_count": 40,
   "metadata": {
    "collapsed": false
   },
   "outputs": [
    {
     "data": {
      "text/plain": [
       "\n",
       "-0.0392 -4.1517 -3.7865\n",
       "-2.4619 -0.3787 -1.4697\n",
       "-1.3400 -0.5238 -1.9252\n",
       "[torch.cuda.FloatTensor of size 3x3 (GPU 0)]"
      ]
     },
     "execution_count": 40,
     "metadata": {},
     "output_type": "execute_result"
    }
   ],
   "source": [
    "outputs.data"
   ]
  },
  {
   "cell_type": "code",
   "execution_count": 16,
   "metadata": {
    "collapsed": false
   },
   "outputs": [
    {
     "name": "stdout",
     "output_type": "stream",
     "text": [
      "Predicting neckline_GT\n",
      "Predicting category_GT\n",
      "Predicting gender_GT\n",
      "Predicting collar_GT\n",
      "Predicting skin_exposure_GT\n",
      "Predicting sleevelength_GT\n",
      "Predicting placket_GT\n",
      "Predicting pattern_GT\n",
      "Predicting necktie_GT\n",
      "Predicting scarf_GT\n"
     ]
    }
   ],
   "source": [
    "results = predict_attributes(image_url, pretrained_conv_model, attribute_models, \n",
    "                            attribute_idx_map=label_values[\"idx_to_names\"],\n",
    "                            flatten_pretrained_out=False, \n",
    "                            use_gpu=use_gpu)"
   ]
  },
  {
   "cell_type": "code",
   "execution_count": 17,
   "metadata": {
    "collapsed": false
   },
   "outputs": [
    {
     "data": {
      "text/plain": [
       "{'category_GT': array([[-1.74185216, -1.93918228, -2.47495174, -1.73868656, -1.92915595,\n",
       "         -2.31653643, -1.73059225]], dtype=float32),\n",
       " 'collar_GT': array([[-1.15838718, -0.37686625]], dtype=float32),\n",
       " 'gender_GT': array([[-1.16109991, -0.37562713]], dtype=float32),\n",
       " 'neckline_GT': array([[-0.69105434, -1.09543717, -1.80448568]], dtype=float32),\n",
       " 'necktie_GT': array([[-0.0770607 , -2.60144615]], dtype=float32),\n",
       " 'pattern_GT': array([[-3.288342  , -2.87000704, -3.03383303, -2.93606281, -0.55018055,\n",
       "         -1.47869468]], dtype=float32),\n",
       " 'placket_GT': array([[-1.27876723, -0.32625693]], dtype=float32),\n",
       " 'scarf_GT': array([[-0.02601743, -3.66196966]], dtype=float32),\n",
       " 'skin_exposure_GT': array([[-0.01899827, -3.97289681]], dtype=float32),\n",
       " 'sleevelength_GT': array([[-3.79770517, -3.03054547, -0.07333589]], dtype=float32)}"
      ]
     },
     "execution_count": 17,
     "metadata": {},
     "output_type": "execute_result"
    }
   ],
   "source": [
    "results"
   ]
  },
  {
   "cell_type": "code",
   "execution_count": 23,
   "metadata": {
    "collapsed": false
   },
   "outputs": [
    {
     "data": {
      "text/plain": [
       "{'category_GT': array([[-1.74185205, -1.9391824 , -2.47495222, -1.73868668, -1.92915571,\n",
       "         -2.31653643, -1.73059225]], dtype=float32),\n",
       " 'collar_GT': array([[-1.15838683, -0.3768664 ]], dtype=float32),\n",
       " 'gender_GT': array([[-1.16109979, -0.3756271 ]], dtype=float32),\n",
       " 'neckline_GT': array([[-0.69105422, -1.09543729, -1.80448604]], dtype=float32),\n",
       " 'necktie_GT': array([[-0.07706058, -2.60144544]], dtype=float32),\n",
       " 'pattern_GT': array([[-3.28834248, -2.87000704, -3.03383279, -2.93606257, -0.55018079,\n",
       "         -1.47869444]], dtype=float32),\n",
       " 'placket_GT': array([[-1.27876723, -0.32625693]], dtype=float32),\n",
       " 'scarf_GT': array([[-0.02601743, -3.66197014]], dtype=float32),\n",
       " 'skin_exposure_GT': array([[-0.01899827, -3.97289705]], dtype=float32),\n",
       " 'sleevelength_GT': array([[-3.79770613, -3.03054476, -0.07333589]], dtype=float32)}"
      ]
     },
     "execution_count": 23,
     "metadata": {},
     "output_type": "execute_result"
    }
   ],
   "source": [
    "results"
   ]
  },
  {
   "cell_type": "code",
   "execution_count": 30,
   "metadata": {
    "collapsed": false
   },
   "outputs": [
    {
     "data": {
      "text/plain": [
       "{'category_GT': ('Dress', 0.17717944),\n",
       " 'collar_GT': ('Has Collar', 0.68600774),\n",
       " 'gender_GT': ('Is Female', 0.68685842),\n",
       " 'neckline_GT': ('V-shape', 0.50104755),\n",
       " 'pattern_GT': ('Solid', 0.57684553),\n",
       " 'placket_GT': ('Has Placket', 0.72161978),\n",
       " 'sleevelength_GT': ('Long sleeves', 0.92928863)}"
      ]
     },
     "execution_count": 30,
     "metadata": {},
     "output_type": "execute_result"
    }
   ],
   "source": [
    "results"
   ]
  },
  {
   "cell_type": "code",
   "execution_count": 36,
   "metadata": {
    "collapsed": false
   },
   "outputs": [
    {
     "data": {
      "text/plain": [
       "0.4389477076378599"
      ]
     },
     "execution_count": 36,
     "metadata": {},
     "output_type": "execute_result"
    }
   ],
   "source": [
    "np.exp(-0.82337499)"
   ]
  },
  {
   "cell_type": "code",
   "execution_count": null,
   "metadata": {
    "collapsed": true
   },
   "outputs": [],
   "source": [
    " 'neckline_GT': {'accuracy': 0.3333333333333333,\n",
    "  'input_files': array(['data/ClothingAttributeDataset/sample/000187.jpg',\n",
    "         'data/ClothingAttributeDataset/sample/000199.jpg',\n",
    "         'data/ClothingAttributeDataset/sample/000175.jpg'], \n",
    "        dtype='<U47'),\n",
    "  'loss': 1.165188193321228,\n",
    "  'y_pred': array([ 0.,  1.,  0.]),\n",
    "  'y_pred_proba': array([-0.01920366, -0.5715282 , -0.82337499]),\n",
    "  'y_true': array([ 0.,  0.,  2.])},"
   ]
  },
  {
   "cell_type": "markdown",
   "metadata": {},
   "source": [
    "## Evaluate Test Set"
   ]
  },
  {
   "cell_type": "code",
   "execution_count": 16,
   "metadata": {
    "collapsed": false
   },
   "outputs": [
    {
     "data": {
      "text/plain": [
       "dict_keys(['skin_exposure_GT', 'necktie_GT', 'collar_GT', 'pattern_GT', 'gender_GT', 'sleevelength_GT', 'neckline_GT', 'category_GT', 'scarf_GT', 'placket_GT'])"
      ]
     },
     "execution_count": 16,
     "metadata": {},
     "output_type": "execute_result"
    }
   ],
   "source": [
    "attribute_models.keys()"
   ]
  },
  {
   "cell_type": "code",
   "execution_count": 15,
   "metadata": {
    "collapsed": false
   },
   "outputs": [],
   "source": [
    "from classifiers import evaluate_model, test_models"
   ]
  },
  {
   "cell_type": "code",
   "execution_count": 15,
   "metadata": {
    "collapsed": false
   },
   "outputs": [],
   "source": [
    "eval_results = {}\n",
    "for target, model in attribute_models.items():\n",
    "    eval_results[target] = evaluate_model(attribute_models[target], pretrained_conv_model, target, \n",
    "                                                labels_file,\n",
    "                                                VALID_IMAGES_FOLDER,\n",
    "                                                batch_size=32, num_workers=4, \n",
    "                                                use_gpu=use_gpu,\n",
    "                                                flatten_pretrained_out=False)"
   ]
  },
  {
   "cell_type": "code",
   "execution_count": 16,
   "metadata": {
    "collapsed": false
   },
   "outputs": [
    {
     "data": {
      "text/plain": [
       "0.74025974025974028"
      ]
     },
     "execution_count": 16,
     "metadata": {},
     "output_type": "execute_result"
    }
   ],
   "source": [
    "(eval_results[\"category_GT\"][\"y_pred\"] == eval_results[\"category_GT\"][\"y_true\"]).sum() / len(eval_results[\"category_GT\"][\"y_pred\"])"
   ]
  },
  {
   "cell_type": "code",
   "execution_count": 15,
   "metadata": {
    "collapsed": false
   },
   "outputs": [],
   "source": [
    "test_results = {}\n",
    "for target, model in attribute_models.items():\n",
    "    test_results[target] = evaluate_model(attribute_models[target], pretrained_conv_model, target, \n",
    "                                                labels_file,\n",
    "                                                TEST_IMAGES_FOLDER,\n",
    "                                                batch_size=32, num_workers=4,\n",
    "                                                use_gpu=use_gpu,\n",
    "                                                flatten_pretrained_out=False)"
   ]
  },
  {
   "cell_type": "code",
   "execution_count": 17,
   "metadata": {
    "collapsed": false
   },
   "outputs": [
    {
     "data": {
      "text/plain": [
       "0.81132075471698117"
      ]
     },
     "execution_count": 17,
     "metadata": {},
     "output_type": "execute_result"
    }
   ],
   "source": [
    "(test_results[\"category_GT\"][\"y_pred\"] == test_results[\"category_GT\"][\"y_true\"]).sum() / len(test_results[\"category_GT\"][\"y_pred\"])"
   ]
  },
  {
   "cell_type": "code",
   "execution_count": 16,
   "metadata": {
    "collapsed": false
   },
   "outputs": [
    {
     "name": "stdout",
     "output_type": "stream",
     "text": [
      "{'accuracy': 0.3333333333333333, 'y_true': array([ 0.,  0.,  2.]), 'input_files': array(['data/ClothingAttributeDataset/sample/000187.jpg',\n",
      "       'data/ClothingAttributeDataset/sample/000199.jpg',\n",
      "       'data/ClothingAttributeDataset/sample/000175.jpg'], \n",
      "      dtype='<U47'), 'y_pred': array([ 0.,  1.,  0.]), 'y_pred_proba': array([-0.01446557, -0.8060196 , -0.51870656]), 'loss': 1.0094143152236938}\n"
     ]
    }
   ],
   "source": [
    "sample_results = {}\n",
    "for target, model in attribute_models.items():\n",
    "    if target == \"neckline_GT\":\n",
    "        print(evaluate_model(attribute_models[target], pretrained_conv_model, target, \n",
    "                                                labels_file,\n",
    "                                                \"data/ClothingAttributeDataset/sample\",\n",
    "                                                batch_size=32, num_workers=4,\n",
    "                                                use_gpu=use_gpu,\n",
    "                                                flatten_pretrained_out=False))"
   ]
  },
  {
   "cell_type": "code",
   "execution_count": 17,
   "metadata": {
    "collapsed": false
   },
   "outputs": [
    {
     "data": {
      "text/plain": [
       "{'category_GT': {'pred_class': 'Outerwear',\n",
       "  'pred_idx': 3,\n",
       "  'pred_prob': 0.95346075},\n",
       " 'collar_GT': {'pred_class': 'Has Collar',\n",
       "  'pred_idx': 1,\n",
       "  'pred_prob': 0.94504762},\n",
       " 'gender_GT': {'pred_class': 'Is Female',\n",
       "  'pred_idx': 1,\n",
       "  'pred_prob': 0.93196648},\n",
       " 'neckline_GT': {'pred_class': 'V-shape',\n",
       "  'pred_idx': 0,\n",
       "  'pred_prob': 0.98563856},\n",
       " 'pattern_GT': {'pred_class': 'Solid', 'pred_idx': 4, 'pred_prob': 0.82243913},\n",
       " 'placket_GT': {'pred_class': 'Has Placket',\n",
       "  'pred_idx': 1,\n",
       "  'pred_prob': 0.99248105},\n",
       " 'sleevelength_GT': {'pred_class': 'Long sleeves',\n",
       "  'pred_idx': 2,\n",
       "  'pred_prob': 0.99963909}}"
      ]
     },
     "execution_count": 17,
     "metadata": {},
     "output_type": "execute_result"
    }
   ],
   "source": [
    "test_models(attribute_models, pretrained_conv_model, 'data/ClothingAttributeDataset/sample/000187.jpg',\n",
    "            attribute_idx_map=label_values[\"idx_to_names\"])"
   ]
  },
  {
   "cell_type": "code",
   "execution_count": 19,
   "metadata": {
    "collapsed": true
   },
   "outputs": [],
   "source": [
    "import pandas as pd"
   ]
  },
  {
   "cell_type": "code",
   "execution_count": 26,
   "metadata": {
    "collapsed": false
   },
   "outputs": [],
   "source": [
    "results = test_models(attribute_models, pretrained_conv_model, 'data/ClothingAttributeDataset/sample/000187.jpg',\n",
    "            attribute_idx_map=label_values[\"idx_to_names\"])"
   ]
  },
  {
   "cell_type": "code",
   "execution_count": 31,
   "metadata": {
    "collapsed": false
   },
   "outputs": [],
   "source": [
    "df = pd.DataFrame(results).T"
   ]
  },
  {
   "cell_type": "code",
   "execution_count": 32,
   "metadata": {
    "collapsed": false
   },
   "outputs": [
    {
     "data": {
      "text/plain": [
       "category_GT        0.953461\n",
       "collar_GT          0.945048\n",
       "gender_GT          0.931966\n",
       "neckline_GT        0.985639\n",
       "pattern_GT         0.822439\n",
       "placket_GT         0.992481\n",
       "sleevelength_GT    0.999639\n",
       "Name: pred_prob, dtype: float64"
      ]
     },
     "execution_count": 32,
     "metadata": {},
     "output_type": "execute_result"
    }
   ],
   "source": [
    "df[\"pred_prob\"] = df[\"pred_prob\"].astype(float)\n"
   ]
  },
  {
   "cell_type": "markdown",
   "metadata": {},
   "source": [
    "sample_results"
   ]
  },
  {
   "cell_type": "code",
   "execution_count": 27,
   "metadata": {
    "collapsed": false
   },
   "outputs": [],
   "source": [
    "pred_proba, preds = outputs.data.max(1)"
   ]
  },
  {
   "cell_type": "code",
   "execution_count": 32,
   "metadata": {
    "collapsed": false
   },
   "outputs": [
    {
     "data": {
      "text/plain": [
       "array([1, 1, 1, 0, 1, 1, 0, 0, 0, 1, 0, 0, 1, 0, 1, 1, 1, 1, 1, 1, 1, 1, 1,\n",
       "       0, 0, 1, 0, 0, 0, 0, 1, 0])"
      ]
     },
     "execution_count": 32,
     "metadata": {},
     "output_type": "execute_result"
    }
   ],
   "source": [
    "preds.cpu().numpy().flatten()"
   ]
  },
  {
   "cell_type": "code",
   "execution_count": 17,
   "metadata": {
    "collapsed": false
   },
   "outputs": [],
   "source": [
    "a = np.array([1, 2, 3])\n",
    "b = np.array([3, 4])"
   ]
  },
  {
   "cell_type": "code",
   "execution_count": 20,
   "metadata": {
    "collapsed": false
   },
   "outputs": [
    {
     "data": {
      "text/plain": [
       "array([1, 2, 3, 3, 4])"
      ]
     },
     "execution_count": 20,
     "metadata": {},
     "output_type": "execute_result"
    }
   ],
   "source": [
    "np.concatenate([a, b])"
   ]
  },
  {
   "cell_type": "code",
   "execution_count": 15,
   "metadata": {
    "collapsed": false
   },
   "outputs": [
    {
     "data": {
      "text/plain": [
       "247"
      ]
     },
     "execution_count": 15,
     "metadata": {},
     "output_type": "execute_result"
    }
   ],
   "source": [
    "eval_accuracy"
   ]
  },
  {
   "cell_type": "code",
   "execution_count": 16,
   "metadata": {
    "collapsed": false
   },
   "outputs": [
    {
     "data": {
      "text/plain": [
       "torch.Size([32])"
      ]
     },
     "execution_count": 16,
     "metadata": {},
     "output_type": "execute_result"
    }
   ],
   "source": [
    "labels.size()"
   ]
  },
  {
   "cell_type": "code",
   "execution_count": null,
   "metadata": {
    "collapsed": true
   },
   "outputs": [],
   "source": [
    " = create_attributes_model(, 512, pretrained_conv_model,\n",
    "                                target_dims, \n",
    "                                # dict(list(target_dims.items())[:3]),\n",
    "                                \"weights/vgg16-fcn-266-2/\",\n",
    "                                labels_file, \n",
    "                                TRAIN_IMAGES_FOLDER, \n",
    "                                VALID_IMAGES_FOLDER, \n",
    "                                num_epochs=1, \n",
    "                                is_train=False,\n",
    "                                use_gpu=use_gpu)"
   ]
  },
  {
   "cell_type": "markdown",
   "metadata": {},
   "source": [
    "## Visualize FCN"
   ]
  },
  {
   "cell_type": "code",
   "execution_count": 23,
   "metadata": {
    "collapsed": false
   },
   "outputs": [],
   "source": [
    "import scipy.misc"
   ]
  },
  {
   "cell_type": "code",
   "execution_count": 48,
   "metadata": {
    "collapsed": false
   },
   "outputs": [],
   "source": [
    "conv_layer_out = attribute_models[\"sleevelength_GT\"].conv_model(pretrained_features)"
   ]
  },
  {
   "cell_type": "code",
   "execution_count": 49,
   "metadata": {
    "collapsed": true
   },
   "outputs": [],
   "source": [
    "conv_arr2 = conv_layer_out[0].data.cpu().numpy()"
   ]
  },
  {
   "cell_type": "code",
   "execution_count": 41,
   "metadata": {
    "collapsed": false
   },
   "outputs": [],
   "source": [
    "conv_arr = conv_layer_out[0].data.cpu().numpy()"
   ]
  },
  {
   "cell_type": "code",
   "execution_count": 42,
   "metadata": {
    "collapsed": false
   },
   "outputs": [
    {
     "data": {
      "text/plain": [
       "array([-1.37030685, -0.64836776,  2.07857776], dtype=float32)"
      ]
     },
     "execution_count": 42,
     "metadata": {},
     "output_type": "execute_result"
    }
   ],
   "source": [
    "np.mean(conv_arr2, axis=(1, 2))"
   ]
  },
  {
   "cell_type": "code",
   "execution_count": 50,
   "metadata": {
    "collapsed": false
   },
   "outputs": [
    {
     "data": {
      "text/plain": [
       "array([-1.37030685, -0.64836776,  2.07857776], dtype=float32)"
      ]
     },
     "execution_count": 50,
     "metadata": {},
     "output_type": "execute_result"
    }
   ],
   "source": [
    "np.mean(conv_arr, axis=(1, 2))"
   ]
  },
  {
   "cell_type": "code",
   "execution_count": 28,
   "metadata": {
    "collapsed": true
   },
   "outputs": [],
   "source": [
    "from torchvision import transforms"
   ]
  },
  {
   "cell_type": "code",
   "execution_count": 29,
   "metadata": {
    "collapsed": false
   },
   "outputs": [
    {
     "data": {
      "text/plain": [
       "torch.Size([1, 3, 224, 224])"
      ]
     },
     "execution_count": 29,
     "metadata": {},
     "output_type": "execute_result"
    }
   ],
   "source": [
    "image_features.size()"
   ]
  },
  {
   "cell_type": "code",
   "execution_count": 55,
   "metadata": {
    "collapsed": false
   },
   "outputs": [],
   "source": [
    "# transforms.ToPILImage()(image_features[0].data.cpu())"
   ]
  },
  {
   "cell_type": "code",
   "execution_count": 38,
   "metadata": {
    "collapsed": false
   },
   "outputs": [
    {
     "data": {
      "text/plain": [
       "(3, 400, 266)"
      ]
     },
     "execution_count": 38,
     "metadata": {},
     "output_type": "execute_result"
    }
   ],
   "source": [
    "image_features[0].data.cpu().numpy().shape"
   ]
  },
  {
   "cell_type": "code",
   "execution_count": 54,
   "metadata": {
    "collapsed": false
   },
   "outputs": [],
   "source": [
    "# plt.imshow(scipy.misc.imresize(scipy.misc.imread(image_url), (400, 266)))"
   ]
  },
  {
   "cell_type": "code",
   "execution_count": 75,
   "metadata": {
    "collapsed": false
   },
   "outputs": [],
   "source": [
    "conv_out = conv_layer_out[0].data.cpu().numpy()"
   ]
  },
  {
   "cell_type": "code",
   "execution_count": 67,
   "metadata": {
    "collapsed": false
   },
   "outputs": [],
   "source": [
    "conv_out_exp = np.exp(conv_out)"
   ]
  },
  {
   "cell_type": "code",
   "execution_count": 68,
   "metadata": {
    "collapsed": false
   },
   "outputs": [],
   "source": [
    "conv_out_sum = np.sum(conv_out_exp, 0)"
   ]
  },
  {
   "cell_type": "code",
   "execution_count": 69,
   "metadata": {
    "collapsed": false
   },
   "outputs": [],
   "source": [
    "conv_out_smax = (conv_out_exp / conv_out_sum)"
   ]
  },
  {
   "cell_type": "code",
   "execution_count": 37,
   "metadata": {
    "collapsed": false
   },
   "outputs": [
    {
     "ename": "NameError",
     "evalue": "name 'scipy' is not defined",
     "output_type": "error",
     "traceback": [
      "\u001b[0;31m---------------------------------------------------------------------------\u001b[0m",
      "\u001b[0;31mNameError\u001b[0m                                 Traceback (most recent call last)",
      "\u001b[0;32m<ipython-input-37-ae21ff64f0bb>\u001b[0m in \u001b[0;36m<module>\u001b[0;34m()\u001b[0m\n\u001b[0;32m----> 1\u001b[0;31m \u001b[0mplt\u001b[0m\u001b[0;34m.\u001b[0m\u001b[0mimshow\u001b[0m\u001b[0;34m(\u001b[0m\u001b[0mscipy\u001b[0m\u001b[0;34m.\u001b[0m\u001b[0mmisc\u001b[0m\u001b[0;34m.\u001b[0m\u001b[0mimresize\u001b[0m\u001b[0;34m(\u001b[0m\u001b[0mscipy\u001b[0m\u001b[0;34m.\u001b[0m\u001b[0mmisc\u001b[0m\u001b[0;34m.\u001b[0m\u001b[0mimread\u001b[0m\u001b[0;34m(\u001b[0m\u001b[0mimage_url\u001b[0m\u001b[0;34m)\u001b[0m\u001b[0;34m,\u001b[0m \u001b[0;34m(\u001b[0m\u001b[0;36m400\u001b[0m\u001b[0;34m,\u001b[0m \u001b[0;36m266\u001b[0m\u001b[0;34m)\u001b[0m\u001b[0;34m)\u001b[0m\u001b[0;34m)\u001b[0m\u001b[0;34m\u001b[0m\u001b[0m\n\u001b[0m\u001b[1;32m      2\u001b[0m plt.imshow(scipy.misc.imresize(conv_out[3], (400, 266), interp='nearest'), \n\u001b[1;32m      3\u001b[0m            alpha=0.5, cmap=\"cool\")\n",
      "\u001b[0;31mNameError\u001b[0m: name 'scipy' is not defined"
     ]
    }
   ],
   "source": [
    "plt.imshow(scipy.misc.imresize(scipy.misc.imread(image_url), (400, 266)))\n",
    "plt.imshow(scipy.misc.imresize(conv_out[3], (400, 266), interp='nearest'), \n",
    "           alpha=0.5, cmap=\"cool\")"
   ]
  },
  {
   "cell_type": "code",
   "execution_count": 71,
   "metadata": {
    "collapsed": false
   },
   "outputs": [
    {
     "data": {
      "text/plain": [
       "<matplotlib.image.AxesImage at 0x7f83cb87cda0>"
      ]
     },
     "execution_count": 71,
     "metadata": {},
     "output_type": "execute_result"
    },
    {
     "data": {
      "image/png": "[encoded data removed]",
      "text/plain": [
       "<matplotlib.figure.Figure at 0x7f83cb87c358>"
      ]
     },
     "metadata": {},
     "output_type": "display_data"
    }
   ],
   "source": [
    "plt.imshow(scipy.misc.imresize(scipy.misc.imread(image_url), (400, 266)))\n",
    "plt.imshow(scipy.misc.imresize(conv_out_smax[2], (400, 266), interp='nearest'), \n",
    "           alpha=0.4, cmap=\"cool\")"
   ]
  },
  {
   "cell_type": "markdown",
   "metadata": {
    "collapsed": true,
    "deletable": true,
    "editable": true
   },
   "source": [
    "## Confusion Matrix"
   ]
  },
  {
   "cell_type": "code",
   "execution_count": 57,
   "metadata": {
    "collapsed": false,
    "deletable": true,
    "editable": true
   },
   "outputs": [
    {
     "ename": "NameError",
     "evalue": "name 'dset_loaders' is not defined",
     "output_type": "error",
     "traceback": [
      "\u001b[0;31m---------------------------------------------------------------------------\u001b[0m",
      "\u001b[0;31mNameError\u001b[0m                                 Traceback (most recent call last)",
      "\u001b[0;32m<ipython-input-57-b1ed1ea4433b>\u001b[0m in \u001b[0;36m<module>\u001b[0;34m()\u001b[0m\n\u001b[0;32m----> 1\u001b[0;31m \u001b[0;32mfor\u001b[0m \u001b[0mdata\u001b[0m \u001b[0;32min\u001b[0m \u001b[0mdset_loaders\u001b[0m\u001b[0;34m[\u001b[0m\u001b[0;34m\"train\"\u001b[0m\u001b[0;34m]\u001b[0m\u001b[0;34m:\u001b[0m\u001b[0;34m\u001b[0m\u001b[0m\n\u001b[0m\u001b[1;32m      2\u001b[0m     \u001b[0minputs\u001b[0m\u001b[0;34m,\u001b[0m \u001b[0mlabels\u001b[0m \u001b[0;34m=\u001b[0m \u001b[0mdata\u001b[0m\u001b[0;34m\u001b[0m\u001b[0m\n\u001b[1;32m      3\u001b[0m     \u001b[0;32mif\u001b[0m \u001b[0muse_gpu\u001b[0m\u001b[0;34m:\u001b[0m\u001b[0;34m\u001b[0m\u001b[0m\n\u001b[1;32m      4\u001b[0m         \u001b[0mX\u001b[0m \u001b[0;34m=\u001b[0m \u001b[0mVariable\u001b[0m\u001b[0;34m(\u001b[0m\u001b[0minputs\u001b[0m\u001b[0;34m.\u001b[0m\u001b[0mcuda\u001b[0m\u001b[0;34m(\u001b[0m\u001b[0;34m)\u001b[0m\u001b[0;34m)\u001b[0m\u001b[0;34m\u001b[0m\u001b[0m\n\u001b[1;32m      5\u001b[0m     \u001b[0;32melse\u001b[0m\u001b[0;34m:\u001b[0m\u001b[0;34m\u001b[0m\u001b[0m\n",
      "\u001b[0;31mNameError\u001b[0m: name 'dset_loaders' is not defined"
     ]
    }
   ],
   "source": [
    "for data in dset_loaders[\"train\"]:\n",
    "    inputs, labels = data\n",
    "    if use_gpu:\n",
    "        X = Variable(inputs.cuda())\n",
    "    else:\n",
    "        X = Variable(inputs)\n",
    "    results = model(X)\n",
    "    if use_gpu:\n",
    "        results = results.cpu()\n",
    "    break"
   ]
  },
  {
   "cell_type": "code",
   "execution_count": 25,
   "metadata": {
    "collapsed": true,
    "deletable": true,
    "editable": true
   },
   "outputs": [],
   "source": [
    "data = [{\"placket_GT\": [\"Has Placket\", \"1.0%\"], \"sleevelength_GT\": [\"Long sleeves\", \"1.0%\"], \"category_GT\": [\"Suit\", \"1.0%\"], \"pattern_GT\": [\"Solid\", \"1.0%\"], \"neckline_GT\": [\"V-shape\", \"1.0%\"], \"collar_GT\": [\"Has Collar\", \"1.0%\"], \"gender_GT\": [\"Is Male\", \"1.0%\"]}]"
   ]
  },
  {
   "cell_type": "code",
   "execution_count": 26,
   "metadata": {
    "collapsed": true
   },
   "outputs": [],
   "source": [
    "import pandas as pd"
   ]
  },
  {
   "cell_type": "code",
   "execution_count": 28,
   "metadata": {
    "collapsed": false
   },
   "outputs": [
    {
     "data": {
      "text/plain": [
       "[{'category_GT': ['Suit', '1.0%'],\n",
       "  'collar_GT': ['Has Collar', '1.0%'],\n",
       "  'gender_GT': ['Is Male', '1.0%'],\n",
       "  'neckline_GT': ['V-shape', '1.0%'],\n",
       "  'pattern_GT': ['Solid', '1.0%'],\n",
       "  'placket_GT': ['Has Placket', '1.0%'],\n",
       "  'sleevelength_GT': ['Long sleeves', '1.0%']}]"
      ]
     },
     "execution_count": 28,
     "metadata": {},
     "output_type": "execute_result"
    }
   ],
   "source": [
    "data"
   ]
  },
  {
   "cell_type": "code",
   "execution_count": null,
   "metadata": {
    "collapsed": true
   },
   "outputs": [],
   "source": [
    "for "
   ]
  },
  {
   "cell_type": "code",
   "execution_count": 31,
   "metadata": {
    "collapsed": false
   },
   "outputs": [],
   "source": [
    "df = pd.DataFrame(data[0]).T"
   ]
  },
  {
   "cell_type": "code",
   "execution_count": 32,
   "metadata": {
    "collapsed": true
   },
   "outputs": [],
   "source": [
    "df.columns = [\"Prediction\", \"Probability\"]"
   ]
  },
  {
   "cell_type": "code",
   "execution_count": 35,
   "metadata": {
    "collapsed": false
   },
   "outputs": [],
   "source": [
    "df.index = df.index.str.replace(\"_GT\", \"\").str.capitalize()"
   ]
  },
  {
   "cell_type": "code",
   "execution_count": 36,
   "metadata": {
    "collapsed": false
   },
   "outputs": [
    {
     "data": {
      "text/html": [
       "<div>\n",
       "<table border=\"1\" class=\"dataframe\">\n",
       "  <thead>\n",
       "    <tr style=\"text-align: right;\">\n",
       "      <th></th>\n",
       "      <th>Prediction</th>\n",
       "      <th>Probability</th>\n",
       "    </tr>\n",
       "  </thead>\n",
       "  <tbody>\n",
       "    <tr>\n",
       "      <th>Category</th>\n",
       "      <td>Suit</td>\n",
       "      <td>1.0%</td>\n",
       "    </tr>\n",
       "    <tr>\n",
       "      <th>Collar</th>\n",
       "      <td>Has Collar</td>\n",
       "      <td>1.0%</td>\n",
       "    </tr>\n",
       "    <tr>\n",
       "      <th>Gender</th>\n",
       "      <td>Is Male</td>\n",
       "      <td>1.0%</td>\n",
       "    </tr>\n",
       "    <tr>\n",
       "      <th>Neckline</th>\n",
       "      <td>V-shape</td>\n",
       "      <td>1.0%</td>\n",
       "    </tr>\n",
       "    <tr>\n",
       "      <th>Pattern</th>\n",
       "      <td>Solid</td>\n",
       "      <td>1.0%</td>\n",
       "    </tr>\n",
       "    <tr>\n",
       "      <th>Placket</th>\n",
       "      <td>Has Placket</td>\n",
       "      <td>1.0%</td>\n",
       "    </tr>\n",
       "    <tr>\n",
       "      <th>Sleevelength</th>\n",
       "      <td>Long sleeves</td>\n",
       "      <td>1.0%</td>\n",
       "    </tr>\n",
       "  </tbody>\n",
       "</table>\n",
       "</div>"
      ],
      "text/plain": [
       "                Prediction Probability\n",
       "Category              Suit        1.0%\n",
       "Collar          Has Collar        1.0%\n",
       "Gender             Is Male        1.0%\n",
       "Neckline           V-shape        1.0%\n",
       "Pattern              Solid        1.0%\n",
       "Placket        Has Placket        1.0%\n",
       "Sleevelength  Long sleeves        1.0%"
      ]
     },
     "execution_count": 36,
     "metadata": {},
     "output_type": "execute_result"
    }
   ],
   "source": [
    "df"
   ]
  },
  {
   "cell_type": "code",
   "execution_count": null,
   "metadata": {
    "collapsed": true
   },
   "outputs": [],
   "source": []
  }
 ],
 "metadata": {
  "kernelspec": {
   "display_name": "Python 3",
   "language": "python",
   "name": "python3"
  },
  "language_info": {
   "codemirror_mode": {
    "name": "ipython",
    "version": 3
   },
   "file_extension": ".py",
   "mimetype": "text/x-python",
   "name": "python",
   "nbconvert_exporter": "python",
   "pygments_lexer": "ipython3",
   "version": "3.5.3"
  }
 },
 "nbformat": 4,
 "nbformat_minor": 2
}
