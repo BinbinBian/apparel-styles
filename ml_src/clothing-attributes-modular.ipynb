{
 "cells": [
  {
   "cell_type": "markdown",
   "metadata": {
    "deletable": true,
    "editable": true
   },
   "source": [
    "## Pre-Procesing"
   ]
  },
  {
   "cell_type": "code",
   "execution_count": 1,
   "metadata": {
    "collapsed": true,
    "deletable": true,
    "editable": true
   },
   "outputs": [],
   "source": [
    "from preprocessing import train_valid_test_split, combine_labels, get_attribute_dims"
   ]
  },
  {
   "cell_type": "code",
   "execution_count": 2,
   "metadata": {
    "collapsed": true,
    "deletable": true,
    "editable": true
   },
   "outputs": [],
   "source": [
    "# Train-Test Split Folders\n",
    "SOURCE_DATA_DIR = \"data/ClothingAttributeDataset/images/\"\n",
    "TARGET_DATA_DIR = \"data/ClothingAttributeDataset/\"\n",
    "\n",
    "# Labels File\n",
    "LABEL_DIR = \"data/ClothingAttributeDataset/labels/\"\n",
    "labels_file = \"data/labels.csv\"\n",
    "label_values_file = \"data/label_values.json\"\n",
    "\n",
    "# Train and Validation Images\n",
    "TRAIN_IMAGES_FOLDER = \"data/ClothingAttributeDataset/train/\"\n",
    "VALID_IMAGES_FOLDER = \"data/ClothingAttributeDataset/valid/\""
   ]
  },
  {
   "cell_type": "code",
   "execution_count": 3,
   "metadata": {
    "collapsed": false,
    "deletable": true,
    "editable": true
   },
   "outputs": [],
   "source": [
    "train_valid_test_split(SOURCE_DATA_DIR, TARGET_DATA_DIR, train_size=0.8, valid_size=0.2)"
   ]
  },
  {
   "cell_type": "code",
   "execution_count": 4,
   "metadata": {
    "collapsed": false,
    "deletable": true,
    "editable": true
   },
   "outputs": [
    {
     "name": "stdout",
     "output_type": "stream",
     "text": [
      "    1484\r\n"
     ]
    }
   ],
   "source": [
    "!ls data/ClothingAttributeDataset/train | wc -l"
   ]
  },
  {
   "cell_type": "code",
   "execution_count": 5,
   "metadata": {
    "collapsed": false,
    "deletable": true,
    "editable": true
   },
   "outputs": [
    {
     "name": "stdout",
     "output_type": "stream",
     "text": [
      "     372\r\n"
     ]
    }
   ],
   "source": [
    "!ls data/ClothingAttributeDataset/valid | wc -l"
   ]
  },
  {
   "cell_type": "code",
   "execution_count": 6,
   "metadata": {
    "collapsed": false,
    "deletable": true,
    "editable": true
   },
   "outputs": [],
   "source": [
    "labels_df = combine_labels(LABEL_DIR, labels_file, label_values_file)"
   ]
  },
  {
   "cell_type": "code",
   "execution_count": 7,
   "metadata": {
    "collapsed": true,
    "deletable": true,
    "editable": true
   },
   "outputs": [],
   "source": [
    "# binary_columns = ['skin_exposure_GT', 'collar_GT', 'gender_GT', 'scarf_GT', 'necktie_GT',  'placket_GT']\n",
    "# multi_columns = ['category_GT', 'neckline_GT', 'sleevelength_GT']\n",
    "    \n",
    "# color_columns = ['white_GT', 'yellow_GT', 'gray_GT', 'green_GT', 'blue_GT', 'brown_GT', 'red_GT',\n",
    "#                  'cyan_GT', 'black_GT', 'purple_GT', 'many_colors_GT']\n",
    "# pattern_columns = ['pattern_spot_GT', 'pattern_solid_GT', 'pattern_graphics_GT', \n",
    "#                   'pattern_plaid_GT', 'pattern_stripe_GT', 'pattern_floral_GT']"
   ]
  },
  {
   "cell_type": "markdown",
   "metadata": {
    "deletable": true,
    "editable": true
   },
   "source": [
    "## Build Models"
   ]
  },
  {
   "cell_type": "code",
   "execution_count": 3,
   "metadata": {
    "collapsed": false,
    "deletable": true,
    "editable": true
   },
   "outputs": [],
   "source": [
    "from classifiers import get_pretrained_model, create_attributes_fc_model"
   ]
  },
  {
   "cell_type": "code",
   "execution_count": 4,
   "metadata": {
    "collapsed": false,
    "deletable": true,
    "editable": true
   },
   "outputs": [],
   "source": [
    "target_dims = get_attribute_dims(label_values_file)"
   ]
  },
  {
   "cell_type": "code",
   "execution_count": 5,
   "metadata": {
    "collapsed": false,
    "deletable": true,
    "editable": true
   },
   "outputs": [
    {
     "data": {
      "text/plain": [
       "{'category_GT': 7,\n",
       " 'collar_GT': 2,\n",
       " 'gender_GT': 2,\n",
       " 'neckline_GT': 3,\n",
       " 'necktie_GT': 2,\n",
       " 'pattern_GT': 6,\n",
       " 'placket_GT': 2,\n",
       " 'scarf_GT': 2,\n",
       " 'skin_exposure_GT': 2,\n",
       " 'sleevelength_GT': 3}"
      ]
     },
     "execution_count": 5,
     "metadata": {},
     "output_type": "execute_result"
    }
   ],
   "source": [
    "target_dims"
   ]
  },
  {
   "cell_type": "code",
   "execution_count": 9,
   "metadata": {
    "collapsed": false,
    "deletable": true,
    "editable": true
   },
   "outputs": [],
   "source": [
    "pretrained_conv_model, pretrained_fc, fc_dim = get_pretrained_model(\"alexnet\")"
   ]
  },
  {
   "cell_type": "code",
   "execution_count": 10,
   "metadata": {
    "collapsed": false,
    "deletable": true,
    "editable": true
   },
   "outputs": [
    {
     "name": "stdout",
     "output_type": "stream",
     "text": [
      "Processing Attribute: placket_GT\n",
      "Processing Attribute: category_GT\n",
      "Processing Attribute: scarf_GT\n",
      "Processing Attribute: necktie_GT\n",
      "Processing Attribute: neckline_GT\n",
      "Processing Attribute: sleevelength_GT\n",
      "Processing Attribute: skin_exposure_GT\n",
      "Processing Attribute: gender_GT\n",
      "Processing Attribute: pattern_GT\n",
      "Processing Attribute: collar_GT\n"
     ]
    }
   ],
   "source": [
    "attribute_models = create_attributes_fc_model(pretrained_fc, pretrained_conv_model, fc_dim, \n",
    "                                target_dims, \"weights/\",\n",
    "                                labels_file, \n",
    "                                 TRAIN_IMAGES_FOLDER, \n",
    "                                 VALID_IMAGES_FOLDER, \n",
    "                                 num_epochs=1, is_train=False)"
   ]
  },
  {
   "cell_type": "code",
   "execution_count": 4,
   "metadata": {
    "collapsed": false
   },
   "outputs": [
    {
     "ename": "NameError",
     "evalue": "name 'attribute_models' is not defined",
     "output_type": "error",
     "traceback": [
      "\u001b[0;31m---------------------------------------------------------------------------\u001b[0m",
      "\u001b[0;31mNameError\u001b[0m                                 Traceback (most recent call last)",
      "\u001b[0;32m<ipython-input-4-8b348ef3a7b2>\u001b[0m in \u001b[0;36m<module>\u001b[0;34m()\u001b[0m\n\u001b[0;32m----> 1\u001b[0;31m \u001b[0mattribute_models\u001b[0m\u001b[0;34m\u001b[0m\u001b[0m\n\u001b[0m",
      "\u001b[0;31mNameError\u001b[0m: name 'attribute_models' is not defined"
     ]
    }
   ],
   "source": [
    "attribute_models"
   ]
  },
  {
   "cell_type": "markdown",
   "metadata": {},
   "source": [
    "## Fully FCN Model"
   ]
  },
  {
   "cell_type": "code",
   "execution_count": 6,
   "metadata": {
    "collapsed": false
   },
   "outputs": [],
   "source": [
    "pretrained_conv_model, _, _ = get_pretrained_model(\"vgg16\", pop_last_pool_layer=True)"
   ]
  },
  {
   "cell_type": "code",
   "execution_count": null,
   "metadata": {
    "collapsed": true
   },
   "outputs": [],
   "source": [
    "from classifiers import AttributeFCN, create_attributes_model"
   ]
  },
  {
   "cell_type": "code",
   "execution_count": null,
   "metadata": {
    "collapsed": false
   },
   "outputs": [],
   "source": [
    "attribute_models = create_attributes_model(AttributeFCN, 512, pretrained_conv_model,\n",
    "                                target_dims, \"weights-fcn/\",\n",
    "                                labels_file, \n",
    "                                 TRAIN_IMAGES_FOLDER, \n",
    "                                 VALID_IMAGES_FOLDER, \n",
    "                                 num_epochs=1, is_train=True)"
   ]
  },
  {
   "cell_type": "code",
   "execution_count": null,
   "metadata": {
    "collapsed": true
   },
   "outputs": [],
   "source": [
    "# attribute_models = create_attributes_model(pretrained_fc, pretrained_conv_model, fc_dim, target_dims, \"weights-fcn/\",\n",
    "#                                 labels_file, \n",
    "#                                  TRAIN_IMAGES_FOLDER, \n",
    "#                                  VALID_IMAGES_FOLDER, \n",
    "#                                  num_epochs=1, is_train=True)"
   ]
  },
  {
   "cell_type": "markdown",
   "metadata": {
    "deletable": true,
    "editable": true
   },
   "source": [
    "## Evaluate the Model"
   ]
  },
  {
   "cell_type": "code",
   "execution_count": 8,
   "metadata": {
    "collapsed": false,
    "deletable": true,
    "editable": true
   },
   "outputs": [
    {
     "name": "stderr",
     "output_type": "stream",
     "text": [
      "/Users/sampathweb/miniconda3/envs/py35/lib/python3.5/site-packages/matplotlib/__init__.py:913: UserWarning: axes.color_cycle is deprecated and replaced with axes.prop_cycle; please use the latter.\n",
      "  warnings.warn(self.msg_depr % (key, alt_key))\n"
     ]
    }
   ],
   "source": [
    "import numpy as np\n",
    "from scipy.misc import imread, imsave, imresize\n",
    "from matplotlib import pyplot as plt\n",
    "\n",
    "%matplotlib inline"
   ]
  },
  {
   "cell_type": "code",
   "execution_count": 9,
   "metadata": {
    "collapsed": false,
    "deletable": true,
    "editable": true
   },
   "outputs": [],
   "source": [
    "from preprocessing import image_loader, load_label_values\n",
    "from classifiers import predict_attributes"
   ]
  },
  {
   "cell_type": "code",
   "execution_count": 10,
   "metadata": {
    "collapsed": false,
    "deletable": true,
    "editable": true
   },
   "outputs": [
    {
     "data": {
      "text/plain": [
       "<matplotlib.image.AxesImage at 0x123947cc0>"
      ]
     },
     "execution_count": 10,
     "metadata": {},
     "output_type": "execute_result"
    },
    {
     "data": {
      "image/png": "[encoded data removed]",
      "text/plain": [
       "<matplotlib.figure.Figure at 0x1114c09e8>"
      ]
     },
     "metadata": {},
     "output_type": "display_data"
    }
   ],
   "source": [
    "img = imread(\"data/ClothingAttributeDataset/valid/000046.jpg\")\n",
    "plt.imshow(img)"
   ]
  },
  {
   "cell_type": "code",
   "execution_count": 11,
   "metadata": {
    "collapsed": false,
    "deletable": true,
    "editable": true
   },
   "outputs": [],
   "source": [
    "# pretrained_conv_model = pretrained_conv_model.eval()"
   ]
  },
  {
   "cell_type": "code",
   "execution_count": 12,
   "metadata": {
    "collapsed": false,
    "deletable": true,
    "editable": true
   },
   "outputs": [],
   "source": [
    "label_values = load_label_values(label_values_file)"
   ]
  },
  {
   "cell_type": "code",
   "execution_count": 13,
   "metadata": {
    "collapsed": false,
    "deletable": true,
    "editable": true
   },
   "outputs": [],
   "source": [
    "image_url = \"data/ClothingAttributeDataset/valid/000046.jpg\"\n",
    "results = predict_attributes(image_url, pretrained_conv_model, attribute_models, \n",
    "                             attribute_idx_map=label_values[\"idx_to_names\"])"
   ]
  },
  {
   "cell_type": "code",
   "execution_count": 14,
   "metadata": {
    "collapsed": false,
    "deletable": true,
    "editable": true
   },
   "outputs": [
    {
     "data": {
      "text/plain": [
       "{'category_GT': {0: 'Shirt',\n",
       "  1: 'Sweater',\n",
       "  2: 'T-shirt',\n",
       "  3: 'Outerwear',\n",
       "  4: 'Suit',\n",
       "  5: 'Tank Top',\n",
       "  6: 'Dress'},\n",
       " 'collar_GT': {0: None, 1: 'Has Collar'},\n",
       " 'gender_GT': {0: 'Is Female', 1: 'Is Male'},\n",
       " 'neckline_GT': {0: 'V-shape', 1: 'Round', 2: 'Other shapes'},\n",
       " 'necktie_GT': {0: None, 1: 'Wears Necktie'},\n",
       " 'pattern_GT': {0: 'Floral',\n",
       "  1: 'Graphics',\n",
       "  2: 'Plaid',\n",
       "  3: 'Stripe',\n",
       "  4: 'Solid',\n",
       "  5: 'Spot'},\n",
       " 'placket_GT': {0: None, 1: 'Has Placket'},\n",
       " 'scarf_GT': {0: None, 1: 'Wears Scarf'},\n",
       " 'skin_exposure_GT': {0: None, 1: 'sees high skin exposure'},\n",
       " 'sleevelength_GT': {0: 'No sleeves', 1: 'Short sleeves', 2: 'Long sleeves'}}"
      ]
     },
     "execution_count": 14,
     "metadata": {},
     "output_type": "execute_result"
    }
   ],
   "source": [
    "label_values[\"idx_to_names\"]"
   ]
  },
  {
   "cell_type": "code",
   "execution_count": 15,
   "metadata": {
    "collapsed": false,
    "deletable": true,
    "editable": true
   },
   "outputs": [
    {
     "data": {
      "text/plain": [
       "{'category_GT': ('Suit', 0.30696633),\n",
       " 'collar_GT': ('Has Collar', 0.87921095),\n",
       " 'gender_GT': ('Is Male', 0.80124891),\n",
       " 'neckline_GT': ('V-shape', 0.71205533),\n",
       " 'pattern_GT': ('Solid', 0.70339167),\n",
       " 'placket_GT': ('Has Placket', 0.80256134),\n",
       " 'sleevelength_GT': ('Long sleeves', 0.95963126)}"
      ]
     },
     "execution_count": 15,
     "metadata": {},
     "output_type": "execute_result"
    }
   ],
   "source": [
    "results"
   ]
  },
  {
   "cell_type": "code",
   "execution_count": 22,
   "metadata": {
    "collapsed": true,
    "deletable": true,
    "editable": true
   },
   "outputs": [],
   "source": []
  },
  {
   "cell_type": "code",
   "execution_count": 85,
   "metadata": {
    "collapsed": false,
    "deletable": true,
    "editable": true
   },
   "outputs": [
    {
     "data": {
      "text/plain": [
       "array([[ 0.20522568,  0.        ,  0.        , ...,  0.        ,\n",
       "         0.        ,  0.        ]], dtype=float32)"
      ]
     },
     "execution_count": 85,
     "metadata": {},
     "output_type": "execute_result"
    }
   ],
   "source": [
    "# out_features.data.cpu().cpu().numpy()"
   ]
  },
  {
   "cell_type": "code",
   "execution_count": 24,
   "metadata": {
    "collapsed": true,
    "deletable": true,
    "editable": true
   },
   "outputs": [],
   "source": [
    "out_features = get_pretrained_features(pretrained_features, image)"
   ]
  },
  {
   "cell_type": "code",
   "execution_count": 25,
   "metadata": {
    "collapsed": false,
    "deletable": true,
    "editable": true
   },
   "outputs": [
    {
     "data": {
      "text/plain": [
       "Variable containing:\n",
       " 0.8101  0.1670  0.0229\n",
       "[torch.FloatTensor of size 1x3]"
      ]
     },
     "execution_count": 25,
     "metadata": {},
     "output_type": "execute_result"
    }
   ],
   "source": [
    "predict_attribute(models[\"neckline_GT\"], out_features)"
   ]
  },
  {
   "cell_type": "code",
   "execution_count": 26,
   "metadata": {
    "collapsed": false,
    "deletable": true,
    "editable": true
   },
   "outputs": [
    {
     "data": {
      "text/plain": [
       "Variable containing:\n",
       "  0.0000   1.2854   1.2854  ...    3.0420   4.7316   3.7730\n",
       "[torch.FloatTensor of size 1x9216]"
      ]
     },
     "execution_count": 26,
     "metadata": {},
     "output_type": "execute_result"
    }
   ],
   "source": [
    "out_features"
   ]
  },
  {
   "cell_type": "code",
   "execution_count": 27,
   "metadata": {
    "collapsed": false,
    "deletable": true,
    "editable": true
   },
   "outputs": [
    {
     "data": {
      "text/plain": [
       "Variable containing:\n",
       " -5.0137  -6.2599  -2.7904  ...   -9.9542  -1.1010   1.2046\n",
       "[torch.FloatTensor of size 1x1000]"
      ]
     },
     "execution_count": 27,
     "metadata": {},
     "output_type": "execute_result"
    }
   ],
   "source": [
    "pretrained_fc(out_features.cpu())"
   ]
  },
  {
   "cell_type": "code",
   "execution_count": 49,
   "metadata": {
    "collapsed": false,
    "deletable": true,
    "editable": true
   },
   "outputs": [
    {
     "data": {
      "text/plain": [
       "Variable containing:\n",
       "  0.0000   0.0000   0.0000  ...    7.7006   5.8663   1.4132\n",
       "[torch.cuda.FloatTensor of size 1x9216 (GPU 0)]"
      ]
     },
     "execution_count": 49,
     "metadata": {},
     "output_type": "execute_result"
    }
   ],
   "source": [
    "out_features"
   ]
  },
  {
   "cell_type": "code",
   "execution_count": 55,
   "metadata": {
    "collapsed": false,
    "deletable": true,
    "editable": true
   },
   "outputs": [
    {
     "data": {
      "text/plain": [
       "Variable containing:\n",
       " 0.0575  0.9410  0.0015\n",
       "[torch.cuda.FloatTensor of size 1x3 (GPU 0)]"
      ]
     },
     "execution_count": 55,
     "metadata": {},
     "output_type": "execute_result"
    }
   ],
   "source": [
    "models[\"neckline_GT\"](out_features.cuda())"
   ]
  },
  {
   "cell_type": "code",
   "execution_count": 56,
   "metadata": {
    "collapsed": true,
    "deletable": true,
    "editable": true
   },
   "outputs": [],
   "source": [
    "## Confusion Matrix"
   ]
  },
  {
   "cell_type": "code",
   "execution_count": 57,
   "metadata": {
    "collapsed": false,
    "deletable": true,
    "editable": true
   },
   "outputs": [
    {
     "ename": "NameError",
     "evalue": "name 'dset_loaders' is not defined",
     "output_type": "error",
     "traceback": [
      "\u001b[0;31m---------------------------------------------------------------------------\u001b[0m",
      "\u001b[0;31mNameError\u001b[0m                                 Traceback (most recent call last)",
      "\u001b[0;32m<ipython-input-57-b1ed1ea4433b>\u001b[0m in \u001b[0;36m<module>\u001b[0;34m()\u001b[0m\n\u001b[0;32m----> 1\u001b[0;31m \u001b[0;32mfor\u001b[0m \u001b[0mdata\u001b[0m \u001b[0;32min\u001b[0m \u001b[0mdset_loaders\u001b[0m\u001b[0;34m[\u001b[0m\u001b[0;34m\"train\"\u001b[0m\u001b[0;34m]\u001b[0m\u001b[0;34m:\u001b[0m\u001b[0;34m\u001b[0m\u001b[0m\n\u001b[0m\u001b[1;32m      2\u001b[0m     \u001b[0minputs\u001b[0m\u001b[0;34m,\u001b[0m \u001b[0mlabels\u001b[0m \u001b[0;34m=\u001b[0m \u001b[0mdata\u001b[0m\u001b[0;34m\u001b[0m\u001b[0m\n\u001b[1;32m      3\u001b[0m     \u001b[0;32mif\u001b[0m \u001b[0muse_gpu\u001b[0m\u001b[0;34m:\u001b[0m\u001b[0;34m\u001b[0m\u001b[0m\n\u001b[1;32m      4\u001b[0m         \u001b[0mX\u001b[0m \u001b[0;34m=\u001b[0m \u001b[0mVariable\u001b[0m\u001b[0;34m(\u001b[0m\u001b[0minputs\u001b[0m\u001b[0;34m.\u001b[0m\u001b[0mcuda\u001b[0m\u001b[0;34m(\u001b[0m\u001b[0;34m)\u001b[0m\u001b[0;34m)\u001b[0m\u001b[0;34m\u001b[0m\u001b[0m\n\u001b[1;32m      5\u001b[0m     \u001b[0;32melse\u001b[0m\u001b[0;34m:\u001b[0m\u001b[0;34m\u001b[0m\u001b[0m\n",
      "\u001b[0;31mNameError\u001b[0m: name 'dset_loaders' is not defined"
     ]
    }
   ],
   "source": [
    "for data in dset_loaders[\"train\"]:\n",
    "    inputs, labels = data\n",
    "    if use_gpu:\n",
    "        X = Variable(inputs.cuda())\n",
    "    else:\n",
    "        X = Variable(inputs)\n",
    "    results = model(X)\n",
    "    if use_gpu:\n",
    "        results = results.cpu()\n",
    "    break"
   ]
  },
  {
   "cell_type": "code",
   "execution_count": null,
   "metadata": {
    "collapsed": true,
    "deletable": true,
    "editable": true
   },
   "outputs": [],
   "source": []
  }
 ],
 "metadata": {
  "kernelspec": {
   "display_name": "Python 3",
   "language": "python",
   "name": "python3"
  },
  "language_info": {
   "codemirror_mode": {
    "name": "ipython",
    "version": 3
   },
   "file_extension": ".py",
   "mimetype": "text/x-python",
   "name": "python",
   "nbconvert_exporter": "python",
   "pygments_lexer": "ipython3",
   "version": "3.5.3"
  }
 },
 "nbformat": 4,
 "nbformat_minor": 2
}
